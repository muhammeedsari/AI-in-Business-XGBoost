{
  "cells":[
    {
      "cell_type":"markdown",
      "source":[
        "# TASK #1: UNDERSTAND THE PROBLEM STATEMENT AND BUSINESS CASE"
      ],
      "metadata":{
        
      }
    },
    {
      "cell_type":"markdown",
      "source":[
        "# TASK #2: IMPORT LIBRARIES AND DATASETS"
      ],
      "metadata":{
        
      }
    },
    {
      "cell_type":"code",
      "source":[
        "import pandas as pd\n",
        "import numpy as np\n",
        "import seaborn as sns\n",
        "import matplotlib.pyplot as plt\n",
        "from collections import Counter\n",
        "import warnings\n",
        "warnings.filterwarnings(\"ignore\")"
      ],
      "execution_count":1,
      "outputs":[
        
      ],
      "metadata":{
        
      }
    },
    {
      "cell_type":"code",
      "source":[
        "# You have to include the full link to the csv file containing your dataset\n",
        "credit_card = pd.read_csv(\"Credit_Card.csv\")"
      ],
      "execution_count":2,
      "outputs":[
        
      ],
      "metadata":{
        
      }
    },
    {
      "cell_type":"code",
      "source":[
        "credit_card.head()"
      ],
      "execution_count":3,
      "outputs":[
        {
          "data":{
            "text\/html":[
              "<div>\n",
              "<style scoped>\n",
              "    .dataframe tbody tr th:only-of-type {\n",
              "        vertical-align: middle;\n",
              "    }\n",
              "\n",
              "    .dataframe tbody tr th {\n",
              "        vertical-align: top;\n",
              "    }\n",
              "\n",
              "    .dataframe thead th {\n",
              "        text-align: right;\n",
              "    }\n",
              "<\/style>\n",
              "<table border=\"1\" class=\"dataframe\">\n",
              "  <thead>\n",
              "    <tr style=\"text-align: right;\">\n",
              "      <th><\/th>\n",
              "      <th>ID<\/th>\n",
              "      <th>LIMIT_BAL<\/th>\n",
              "      <th>SEX<\/th>\n",
              "      <th>EDUCATION<\/th>\n",
              "      <th>MARRIAGE<\/th>\n",
              "      <th>AGE<\/th>\n",
              "      <th>PAY_0<\/th>\n",
              "      <th>PAY_2<\/th>\n",
              "      <th>PAY_3<\/th>\n",
              "      <th>PAY_4<\/th>\n",
              "      <th>...<\/th>\n",
              "      <th>BILL_AMT4<\/th>\n",
              "      <th>BILL_AMT5<\/th>\n",
              "      <th>BILL_AMT6<\/th>\n",
              "      <th>PAY_AMT1<\/th>\n",
              "      <th>PAY_AMT2<\/th>\n",
              "      <th>PAY_AMT3<\/th>\n",
              "      <th>PAY_AMT4<\/th>\n",
              "      <th>PAY_AMT5<\/th>\n",
              "      <th>PAY_AMT6<\/th>\n",
              "      <th>default.payment.next.month<\/th>\n",
              "    <\/tr>\n",
              "  <\/thead>\n",
              "  <tbody>\n",
              "    <tr>\n",
              "      <th>0<\/th>\n",
              "      <td>1<\/td>\n",
              "      <td>20000.0<\/td>\n",
              "      <td>2<\/td>\n",
              "      <td>2<\/td>\n",
              "      <td>1<\/td>\n",
              "      <td>24<\/td>\n",
              "      <td>2<\/td>\n",
              "      <td>2<\/td>\n",
              "      <td>-1<\/td>\n",
              "      <td>-1<\/td>\n",
              "      <td>...<\/td>\n",
              "      <td>0.0<\/td>\n",
              "      <td>0.0<\/td>\n",
              "      <td>0.0<\/td>\n",
              "      <td>0.0<\/td>\n",
              "      <td>689.0<\/td>\n",
              "      <td>0.0<\/td>\n",
              "      <td>0.0<\/td>\n",
              "      <td>0.0<\/td>\n",
              "      <td>0.0<\/td>\n",
              "      <td>1<\/td>\n",
              "    <\/tr>\n",
              "    <tr>\n",
              "      <th>1<\/th>\n",
              "      <td>2<\/td>\n",
              "      <td>120000.0<\/td>\n",
              "      <td>2<\/td>\n",
              "      <td>2<\/td>\n",
              "      <td>2<\/td>\n",
              "      <td>26<\/td>\n",
              "      <td>-1<\/td>\n",
              "      <td>2<\/td>\n",
              "      <td>0<\/td>\n",
              "      <td>0<\/td>\n",
              "      <td>...<\/td>\n",
              "      <td>3272.0<\/td>\n",
              "      <td>3455.0<\/td>\n",
              "      <td>3261.0<\/td>\n",
              "      <td>0.0<\/td>\n",
              "      <td>1000.0<\/td>\n",
              "      <td>1000.0<\/td>\n",
              "      <td>1000.0<\/td>\n",
              "      <td>0.0<\/td>\n",
              "      <td>2000.0<\/td>\n",
              "      <td>1<\/td>\n",
              "    <\/tr>\n",
              "    <tr>\n",
              "      <th>2<\/th>\n",
              "      <td>3<\/td>\n",
              "      <td>90000.0<\/td>\n",
              "      <td>2<\/td>\n",
              "      <td>2<\/td>\n",
              "      <td>2<\/td>\n",
              "      <td>34<\/td>\n",
              "      <td>0<\/td>\n",
              "      <td>0<\/td>\n",
              "      <td>0<\/td>\n",
              "      <td>0<\/td>\n",
              "      <td>...<\/td>\n",
              "      <td>14331.0<\/td>\n",
              "      <td>14948.0<\/td>\n",
              "      <td>15549.0<\/td>\n",
              "      <td>1518.0<\/td>\n",
              "      <td>1500.0<\/td>\n",
              "      <td>1000.0<\/td>\n",
              "      <td>1000.0<\/td>\n",
              "      <td>1000.0<\/td>\n",
              "      <td>5000.0<\/td>\n",
              "      <td>0<\/td>\n",
              "    <\/tr>\n",
              "    <tr>\n",
              "      <th>3<\/th>\n",
              "      <td>4<\/td>\n",
              "      <td>50000.0<\/td>\n",
              "      <td>2<\/td>\n",
              "      <td>2<\/td>\n",
              "      <td>1<\/td>\n",
              "      <td>37<\/td>\n",
              "      <td>0<\/td>\n",
              "      <td>0<\/td>\n",
              "      <td>0<\/td>\n",
              "      <td>0<\/td>\n",
              "      <td>...<\/td>\n",
              "      <td>28314.0<\/td>\n",
              "      <td>28959.0<\/td>\n",
              "      <td>29547.0<\/td>\n",
              "      <td>2000.0<\/td>\n",
              "      <td>2019.0<\/td>\n",
              "      <td>1200.0<\/td>\n",
              "      <td>1100.0<\/td>\n",
              "      <td>1069.0<\/td>\n",
              "      <td>1000.0<\/td>\n",
              "      <td>0<\/td>\n",
              "    <\/tr>\n",
              "    <tr>\n",
              "      <th>4<\/th>\n",
              "      <td>5<\/td>\n",
              "      <td>50000.0<\/td>\n",
              "      <td>1<\/td>\n",
              "      <td>2<\/td>\n",
              "      <td>1<\/td>\n",
              "      <td>57<\/td>\n",
              "      <td>-1<\/td>\n",
              "      <td>0<\/td>\n",
              "      <td>-1<\/td>\n",
              "      <td>0<\/td>\n",
              "      <td>...<\/td>\n",
              "      <td>20940.0<\/td>\n",
              "      <td>19146.0<\/td>\n",
              "      <td>19131.0<\/td>\n",
              "      <td>2000.0<\/td>\n",
              "      <td>36681.0<\/td>\n",
              "      <td>10000.0<\/td>\n",
              "      <td>9000.0<\/td>\n",
              "      <td>689.0<\/td>\n",
              "      <td>679.0<\/td>\n",
              "      <td>0<\/td>\n",
              "    <\/tr>\n",
              "  <\/tbody>\n",
              "<\/table>\n",
              "<p>5 rows × 25 columns<\/p>\n",
              "<\/div>"
            ]
          },
          "metadata":{
            
          },
          "output_type":"display_data"
        }
      ],
      "metadata":{
        
      }
    },
    {
      "cell_type":"code",
      "source":[
        "credit_card.info()\n",
        "# 24 features in total, each contains 30000 data points"
      ],
      "execution_count":4,
      "outputs":[
        {
          "name":"stdout",
          "text":[
            "<class 'pandas.core.frame.DataFrame'>\n",
            "RangeIndex: 30000 entries, 0 to 29999\n",
            "Data columns (total 25 columns):\n",
            " #   Column                      Non-Null Count  Dtype  \n",
            "---  ------                      --------------  -----  \n",
            " 0   ID                          30000 non-null  int64  \n",
            " 1   LIMIT_BAL                   30000 non-null  float64\n",
            " 2   SEX                         30000 non-null  int64  \n",
            " 3   EDUCATION                   30000 non-null  int64  \n",
            " 4   MARRIAGE                    30000 non-null  int64  \n",
            " 5   AGE                         30000 non-null  int64  \n",
            " 6   PAY_0                       30000 non-null  int64  \n",
            " 7   PAY_2                       30000 non-null  int64  \n",
            " 8   PAY_3                       30000 non-null  int64  \n",
            " 9   PAY_4                       30000 non-null  int64  \n",
            " 10  PAY_5                       30000 non-null  int64  \n",
            " 11  PAY_6                       30000 non-null  int64  \n",
            " 12  BILL_AMT1                   30000 non-null  float64\n",
            " 13  BILL_AMT2                   30000 non-null  float64\n",
            " 14  BILL_AMT3                   30000 non-null  float64\n",
            " 15  BILL_AMT4                   30000 non-null  float64\n",
            " 16  BILL_AMT5                   30000 non-null  float64\n",
            " 17  BILL_AMT6                   30000 non-null  float64\n",
            " 18  PAY_AMT1                    30000 non-null  float64\n",
            " 19  PAY_AMT2                    30000 non-null  float64\n",
            " 20  PAY_AMT3                    30000 non-null  float64\n",
            " 21  PAY_AMT4                    30000 non-null  float64\n",
            " 22  PAY_AMT5                    30000 non-null  float64\n",
            " 23  PAY_AMT6                    30000 non-null  float64\n",
            " 24  default.payment.next.month  30000 non-null  int64  \n",
            "dtypes: float64(13), int64(12)\n",
            "memory usage: 5.7 MB\n"
          ],
          "output_type":"stream"
        }
      ],
      "metadata":{
        
      }
    },
    {
      "cell_type":"code",
      "source":[
        "credit_card.describe()\n",
        "# the mean for LIMIT_BAL = 1500, min =1, and max = 30000\n",
        "# the mean for AGE = 25 years old, min = 21, and max = 79\n",
        "# PAY_AMT average is around 5k"
      ],
      "execution_count":5,
      "outputs":[
        {
          "data":{
            "text\/html":[
              "<div>\n",
              "<style scoped>\n",
              "    .dataframe tbody tr th:only-of-type {\n",
              "        vertical-align: middle;\n",
              "    }\n",
              "\n",
              "    .dataframe tbody tr th {\n",
              "        vertical-align: top;\n",
              "    }\n",
              "\n",
              "    .dataframe thead th {\n",
              "        text-align: right;\n",
              "    }\n",
              "<\/style>\n",
              "<table border=\"1\" class=\"dataframe\">\n",
              "  <thead>\n",
              "    <tr style=\"text-align: right;\">\n",
              "      <th><\/th>\n",
              "      <th>ID<\/th>\n",
              "      <th>LIMIT_BAL<\/th>\n",
              "      <th>SEX<\/th>\n",
              "      <th>EDUCATION<\/th>\n",
              "      <th>MARRIAGE<\/th>\n",
              "      <th>AGE<\/th>\n",
              "      <th>PAY_0<\/th>\n",
              "      <th>PAY_2<\/th>\n",
              "      <th>PAY_3<\/th>\n",
              "      <th>PAY_4<\/th>\n",
              "      <th>...<\/th>\n",
              "      <th>BILL_AMT4<\/th>\n",
              "      <th>BILL_AMT5<\/th>\n",
              "      <th>BILL_AMT6<\/th>\n",
              "      <th>PAY_AMT1<\/th>\n",
              "      <th>PAY_AMT2<\/th>\n",
              "      <th>PAY_AMT3<\/th>\n",
              "      <th>PAY_AMT4<\/th>\n",
              "      <th>PAY_AMT5<\/th>\n",
              "      <th>PAY_AMT6<\/th>\n",
              "      <th>default.payment.next.month<\/th>\n",
              "    <\/tr>\n",
              "  <\/thead>\n",
              "  <tbody>\n",
              "    <tr>\n",
              "      <th>count<\/th>\n",
              "      <td>30000.000000<\/td>\n",
              "      <td>30000.000000<\/td>\n",
              "      <td>30000.000000<\/td>\n",
              "      <td>30000.000000<\/td>\n",
              "      <td>30000.000000<\/td>\n",
              "      <td>30000.000000<\/td>\n",
              "      <td>30000.000000<\/td>\n",
              "      <td>30000.000000<\/td>\n",
              "      <td>30000.000000<\/td>\n",
              "      <td>30000.000000<\/td>\n",
              "      <td>...<\/td>\n",
              "      <td>30000.000000<\/td>\n",
              "      <td>30000.000000<\/td>\n",
              "      <td>30000.000000<\/td>\n",
              "      <td>30000.000000<\/td>\n",
              "      <td>3.000000e+04<\/td>\n",
              "      <td>30000.00000<\/td>\n",
              "      <td>30000.000000<\/td>\n",
              "      <td>30000.000000<\/td>\n",
              "      <td>30000.000000<\/td>\n",
              "      <td>30000.000000<\/td>\n",
              "    <\/tr>\n",
              "    <tr>\n",
              "      <th>mean<\/th>\n",
              "      <td>15000.500000<\/td>\n",
              "      <td>167484.322667<\/td>\n",
              "      <td>1.603733<\/td>\n",
              "      <td>1.853133<\/td>\n",
              "      <td>1.551867<\/td>\n",
              "      <td>35.485500<\/td>\n",
              "      <td>-0.016700<\/td>\n",
              "      <td>-0.133767<\/td>\n",
              "      <td>-0.166200<\/td>\n",
              "      <td>-0.220667<\/td>\n",
              "      <td>...<\/td>\n",
              "      <td>43262.948967<\/td>\n",
              "      <td>40311.400967<\/td>\n",
              "      <td>38871.760400<\/td>\n",
              "      <td>5663.580500<\/td>\n",
              "      <td>5.921163e+03<\/td>\n",
              "      <td>5225.68150<\/td>\n",
              "      <td>4826.076867<\/td>\n",
              "      <td>4799.387633<\/td>\n",
              "      <td>5215.502567<\/td>\n",
              "      <td>0.221200<\/td>\n",
              "    <\/tr>\n",
              "    <tr>\n",
              "      <th>std<\/th>\n",
              "      <td>8660.398374<\/td>\n",
              "      <td>129747.661567<\/td>\n",
              "      <td>0.489129<\/td>\n",
              "      <td>0.790349<\/td>\n",
              "      <td>0.521970<\/td>\n",
              "      <td>9.217904<\/td>\n",
              "      <td>1.123802<\/td>\n",
              "      <td>1.197186<\/td>\n",
              "      <td>1.196868<\/td>\n",
              "      <td>1.169139<\/td>\n",
              "      <td>...<\/td>\n",
              "      <td>64332.856134<\/td>\n",
              "      <td>60797.155770<\/td>\n",
              "      <td>59554.107537<\/td>\n",
              "      <td>16563.280354<\/td>\n",
              "      <td>2.304087e+04<\/td>\n",
              "      <td>17606.96147<\/td>\n",
              "      <td>15666.159744<\/td>\n",
              "      <td>15278.305679<\/td>\n",
              "      <td>17777.465775<\/td>\n",
              "      <td>0.415062<\/td>\n",
              "    <\/tr>\n",
              "    <tr>\n",
              "      <th>min<\/th>\n",
              "      <td>1.000000<\/td>\n",
              "      <td>10000.000000<\/td>\n",
              "      <td>1.000000<\/td>\n",
              "      <td>0.000000<\/td>\n",
              "      <td>0.000000<\/td>\n",
              "      <td>21.000000<\/td>\n",
              "      <td>-2.000000<\/td>\n",
              "      <td>-2.000000<\/td>\n",
              "      <td>-2.000000<\/td>\n",
              "      <td>-2.000000<\/td>\n",
              "      <td>...<\/td>\n",
              "      <td>-170000.000000<\/td>\n",
              "      <td>-81334.000000<\/td>\n",
              "      <td>-339603.000000<\/td>\n",
              "      <td>0.000000<\/td>\n",
              "      <td>0.000000e+00<\/td>\n",
              "      <td>0.00000<\/td>\n",
              "      <td>0.000000<\/td>\n",
              "      <td>0.000000<\/td>\n",
              "      <td>0.000000<\/td>\n",
              "      <td>0.000000<\/td>\n",
              "    <\/tr>\n",
              "    <tr>\n",
              "      <th>25%<\/th>\n",
              "      <td>7500.750000<\/td>\n",
              "      <td>50000.000000<\/td>\n",
              "      <td>1.000000<\/td>\n",
              "      <td>1.000000<\/td>\n",
              "      <td>1.000000<\/td>\n",
              "      <td>28.000000<\/td>\n",
              "      <td>-1.000000<\/td>\n",
              "      <td>-1.000000<\/td>\n",
              "      <td>-1.000000<\/td>\n",
              "      <td>-1.000000<\/td>\n",
              "      <td>...<\/td>\n",
              "      <td>2326.750000<\/td>\n",
              "      <td>1763.000000<\/td>\n",
              "      <td>1256.000000<\/td>\n",
              "      <td>1000.000000<\/td>\n",
              "      <td>8.330000e+02<\/td>\n",
              "      <td>390.00000<\/td>\n",
              "      <td>296.000000<\/td>\n",
              "      <td>252.500000<\/td>\n",
              "      <td>117.750000<\/td>\n",
              "      <td>0.000000<\/td>\n",
              "    <\/tr>\n",
              "    <tr>\n",
              "      <th>50%<\/th>\n",
              "      <td>15000.500000<\/td>\n",
              "      <td>140000.000000<\/td>\n",
              "      <td>2.000000<\/td>\n",
              "      <td>2.000000<\/td>\n",
              "      <td>2.000000<\/td>\n",
              "      <td>34.000000<\/td>\n",
              "      <td>0.000000<\/td>\n",
              "      <td>0.000000<\/td>\n",
              "      <td>0.000000<\/td>\n",
              "      <td>0.000000<\/td>\n",
              "      <td>...<\/td>\n",
              "      <td>19052.000000<\/td>\n",
              "      <td>18104.500000<\/td>\n",
              "      <td>17071.000000<\/td>\n",
              "      <td>2100.000000<\/td>\n",
              "      <td>2.009000e+03<\/td>\n",
              "      <td>1800.00000<\/td>\n",
              "      <td>1500.000000<\/td>\n",
              "      <td>1500.000000<\/td>\n",
              "      <td>1500.000000<\/td>\n",
              "      <td>0.000000<\/td>\n",
              "    <\/tr>\n",
              "    <tr>\n",
              "      <th>75%<\/th>\n",
              "      <td>22500.250000<\/td>\n",
              "      <td>240000.000000<\/td>\n",
              "      <td>2.000000<\/td>\n",
              "      <td>2.000000<\/td>\n",
              "      <td>2.000000<\/td>\n",
              "      <td>41.000000<\/td>\n",
              "      <td>0.000000<\/td>\n",
              "      <td>0.000000<\/td>\n",
              "      <td>0.000000<\/td>\n",
              "      <td>0.000000<\/td>\n",
              "      <td>...<\/td>\n",
              "      <td>54506.000000<\/td>\n",
              "      <td>50190.500000<\/td>\n",
              "      <td>49198.250000<\/td>\n",
              "      <td>5006.000000<\/td>\n",
              "      <td>5.000000e+03<\/td>\n",
              "      <td>4505.00000<\/td>\n",
              "      <td>4013.250000<\/td>\n",
              "      <td>4031.500000<\/td>\n",
              "      <td>4000.000000<\/td>\n",
              "      <td>0.000000<\/td>\n",
              "    <\/tr>\n",
              "    <tr>\n",
              "      <th>max<\/th>\n",
              "      <td>30000.000000<\/td>\n",
              "      <td>1000000.000000<\/td>\n",
              "      <td>2.000000<\/td>\n",
              "      <td>6.000000<\/td>\n",
              "      <td>3.000000<\/td>\n",
              "      <td>79.000000<\/td>\n",
              "      <td>8.000000<\/td>\n",
              "      <td>8.000000<\/td>\n",
              "      <td>8.000000<\/td>\n",
              "      <td>8.000000<\/td>\n",
              "      <td>...<\/td>\n",
              "      <td>891586.000000<\/td>\n",
              "      <td>927171.000000<\/td>\n",
              "      <td>961664.000000<\/td>\n",
              "      <td>873552.000000<\/td>\n",
              "      <td>1.684259e+06<\/td>\n",
              "      <td>896040.00000<\/td>\n",
              "      <td>621000.000000<\/td>\n",
              "      <td>426529.000000<\/td>\n",
              "      <td>528666.000000<\/td>\n",
              "      <td>1.000000<\/td>\n",
              "    <\/tr>\n",
              "  <\/tbody>\n",
              "<\/table>\n",
              "<p>8 rows × 25 columns<\/p>\n",
              "<\/div>"
            ]
          },
          "metadata":{
            
          },
          "output_type":"display_data"
        }
      ],
      "metadata":{
        
      }
    },
    {
      "cell_type":"code",
      "source":[
        "credit_card.columns"
      ],
      "execution_count":6,
      "outputs":[
        {
          "data":{
            "text\/plain":[
              "Index(['ID', 'LIMIT_BAL', 'SEX', 'EDUCATION', 'MARRIAGE', 'AGE', 'PAY_0',\n",
              "       'PAY_2', 'PAY_3', 'PAY_4', 'PAY_5', 'PAY_6', 'BILL_AMT1', 'BILL_AMT2',\n",
              "       'BILL_AMT3', 'BILL_AMT4', 'BILL_AMT5', 'BILL_AMT6', 'PAY_AMT1',\n",
              "       'PAY_AMT2', 'PAY_AMT3', 'PAY_AMT4', 'PAY_AMT5', 'PAY_AMT6',\n",
              "       'default.payment.next.month'],\n",
              "      dtype='object')"
            ]
          },
          "metadata":{
            
          },
          "output_type":"display_data"
        }
      ],
      "metadata":{
        
      }
    },
    {
      "cell_type":"markdown",
      "source":[
        "# TASK #3: VISUALIZE DATASET"
      ],
      "metadata":{
        
      }
    },
    {
      "cell_type":"code",
      "source":[
        "credit_card.hist(bins = 30, figsize = (20,20), color = \"g\")"
      ],
      "execution_count":7,
      "outputs":[
        {
          "data":{
            "text\/plain":[
              "array([[<AxesSubplot:title={'center':'ID'}>,\n",
              "        <AxesSubplot:title={'center':'LIMIT_BAL'}>,\n",
              "        <AxesSubplot:title={'center':'SEX'}>,\n",
              "        <AxesSubplot:title={'center':'EDUCATION'}>,\n",
              "        <AxesSubplot:title={'center':'MARRIAGE'}>],\n",
              "       [<AxesSubplot:title={'center':'AGE'}>,\n",
              "        <AxesSubplot:title={'center':'PAY_0'}>,\n",
              "        <AxesSubplot:title={'center':'PAY_2'}>,\n",
              "        <AxesSubplot:title={'center':'PAY_3'}>,\n",
              "        <AxesSubplot:title={'center':'PAY_4'}>],\n",
              "       [<AxesSubplot:title={'center':'PAY_5'}>,\n",
              "        <AxesSubplot:title={'center':'PAY_6'}>,\n",
              "        <AxesSubplot:title={'center':'BILL_AMT1'}>,\n",
              "        <AxesSubplot:title={'center':'BILL_AMT2'}>,\n",
              "        <AxesSubplot:title={'center':'BILL_AMT3'}>],\n",
              "       [<AxesSubplot:title={'center':'BILL_AMT4'}>,\n",
              "        <AxesSubplot:title={'center':'BILL_AMT5'}>,\n",
              "        <AxesSubplot:title={'center':'BILL_AMT6'}>,\n",
              "        <AxesSubplot:title={'center':'PAY_AMT1'}>,\n",
              "        <AxesSubplot:title={'center':'PAY_AMT2'}>],\n",
              "       [<AxesSubplot:title={'center':'PAY_AMT3'}>,\n",
              "        <AxesSubplot:title={'center':'PAY_AMT4'}>,\n",
              "        <AxesSubplot:title={'center':'PAY_AMT5'}>,\n",
              "        <AxesSubplot:title={'center':'PAY_AMT6'}>,\n",
              "        <AxesSubplot:title={'center':'default.payment.next.month'}>]],\n",
              "      dtype=object)"
            ],
            "image\/png":"[encoded data removed]"
          },
          "metadata":{
            "image\/png":{
              "width":0,
              "height":0
            }
          },
          "output_type":"display_data"
        }
      ],
      "metadata":{
        
      }
    },
    {
      "cell_type":"code",
      "source":[
        "sns.countplot(credit_card['default.payment.next.month'])\n",
        "plt.show()"
      ],
      "execution_count":48,
      "outputs":[
        
      ],
      "metadata":{
        
      }
    },
    {
      "cell_type":"code",
      "source":[
        "credit_card.corrwith(credit_card['default.payment.next.month']).plot.bar(figsize=(20,10),\n",
        "                                               title=\"Correlation with default.payment.next.month\",\n",
        "                                               fontsize=15,\n",
        "                                               rot=45,\n",
        "                                               grid=True)"
      ],
      "execution_count":49,
      "outputs":[
        {
          "data":{
            "text\/plain":[
              "<AxesSubplot:title={'center':'Correlation with default.payment.next.month'}>"
            ],
            "image\/png":"[encoded data removed]"
          },
          "metadata":{
            "image\/png":{
              "width":0,
              "height":0
            }
          },
          "output_type":"display_data"
        }
      ],
      "metadata":{
        
      }
    },
    {
      "cell_type":"code",
      "source":[
        "sns.displot(x = 'LIMIT_BAL', data = credit_card, hue = 'default.payment.next.month', kde = True, rug=True)\n",
        "plt.show()"
      ],
      "execution_count":50,
      "outputs":[
        {
          "data":{
            "image\/png":"[encoded data removed]"
          },
          "metadata":{
            "image\/png":{
              "width":0,
              "height":0
            }
          },
          "output_type":"display_data"
        }
      ],
      "metadata":{
        
      }
    },
    {
      "cell_type":"code",
      "source":[
        "treshold = 0.25\n",
        "corr_matrix = credit_card.corr()\n",
        "filtre = np.abs(corr_matrix['default.payment.next.month'])>treshold\n",
        "corr_feature = corr_matrix.columns[filtre].tolist()\n",
        "corr=credit_card[corr_feature].corr()\n",
        "\n",
        "plt.figure(figsize=(18,14))\n",
        "sns.heatmap(corr, annot=True, linecolor=\"w\", linewidths=.5, fmt=\".2f\")\n",
        "plt.show()"
      ],
      "execution_count":8,
      "outputs":[
        {
          "data":{
            "image\/png":"[encoded data removed]"
          },
          "metadata":{
            "image\/png":{
              "width":0,
              "height":0
            }
          },
          "output_type":"display_data"
        }
      ],
      "metadata":{
        
      }
    },
    {
      "cell_type":"code",
      "source":[
        "col = ['PAY_0', 'PAY_2','PAY_3', 'PAY_4', 'PAY_5', 'PAY_6', 'EDUCATION', 'MARRIAGE']"
      ],
      "execution_count":9,
      "outputs":[
        
      ],
      "metadata":{
        
      }
    },
    {
      "cell_type":"code",
      "source":[
        "def show_categoric_bar_plot(dataframe, columns):\n",
        "    for column in columns:\n",
        "        plt.figure(figsize=[10,4])\n",
        "        sns.countplot(x = column, data = dataframe)"
      ],
      "execution_count":10,
      "outputs":[
        
      ],
      "metadata":{
        
      }
    },
    {
      "cell_type":"code",
      "source":[
        "show_categoric_bar_plot(credit_card, col)"
      ],
      "execution_count":54,
      "outputs":[
        {
          "data":{
            "image\/png":"[encoded data removed]"
          },
          "metadata":{
            "image\/png":{
              "width":0,
              "height":0
            }
          },
          "output_type":"display_data"
        }
      ],
      "metadata":{
        
      }
    },
    {
      "cell_type":"code",
      "source":[
        "plt.figure(figsize=[20,20])\n",
        "plt.subplot(311)\n",
        "sns.countplot(x = 'EDUCATION', hue = 'default.payment.next.month', data = credit_card)\n",
        "plt.subplot(312)\n",
        "sns.countplot(x = 'SEX', hue = 'default.payment.next.month', data = credit_card)\n",
        "plt.subplot(313)\n",
        "sns.countplot(x = 'MARRIAGE', hue = 'default.payment.next.month', data = credit_card)"
      ],
      "execution_count":57,
      "outputs":[
        {
          "data":{
            "text\/plain":[
              "<AxesSubplot:xlabel='MARRIAGE', ylabel='count'>"
            ],
            "image\/png":"[encoded data removed]"
          },
          "metadata":{
            "image\/png":{
              "width":0,
              "height":0
            }
          },
          "output_type":"display_data"
        }
      ],
      "metadata":{
        
      }
    },
    {
      "cell_type":"code",
      "source":[
        "# Let's see the impact of sex on the limit balance \n",
        "\n",
        "plt.figure(figsize=[10,20])\n",
        "plt.subplot(211)\n",
        "sns.boxplot(x = 'SEX', y = 'LIMIT_BAL', data = credit_card, showfliers = False)\n",
        "plt.subplot(212)\n",
        "sns.boxplot(x = 'SEX', y = 'LIMIT_BAL', data = credit_card)"
      ],
      "execution_count":58,
      "outputs":[
        {
          "data":{
            "text\/plain":[
              "<AxesSubplot:xlabel='SEX', ylabel='LIMIT_BAL'>"
            ],
            "image\/png":"[encoded data removed]"
          },
          "metadata":{
            "image\/png":{
              "width":0,
              "height":0
            }
          },
          "output_type":"display_data"
        }
      ],
      "metadata":{
        
      }
    },
    {
      "cell_type":"code",
      "source":[
        "plt.figure(figsize=[10,20])\n",
        "plt.subplot(211)\n",
        "sns.boxplot(x = 'MARRIAGE', y = 'LIMIT_BAL', data = credit_card, showfliers = False)\n",
        "plt.subplot(212)\n",
        "sns.boxplot(x = 'MARRIAGE', y = 'LIMIT_BAL', data = credit_card)"
      ],
      "execution_count":59,
      "outputs":[
        {
          "data":{
            "text\/plain":[
              "<AxesSubplot:xlabel='MARRIAGE', ylabel='LIMIT_BAL'>"
            ],
            "image\/png":"[encoded data removed]"
          },
          "metadata":{
            "image\/png":{
              "width":0,
              "height":0
            }
          },
          "output_type":"display_data"
        }
      ],
      "metadata":{
        
      }
    },
    {
      "cell_type":"markdown",
      "source":[
        "# TASK #4: CREATE TESTING AND TRAINING DATASET & PERFORM DATA CLEANING"
      ],
      "metadata":{
        
      }
    },
    {
      "cell_type":"code",
      "source":[
        "# Let's drop the ID column\n",
        "credit_card.drop(['ID'], axis=1, inplace=True)"
      ],
      "execution_count":11,
      "outputs":[
        
      ],
      "metadata":{
        
      }
    },
    {
      "cell_type":"code",
      "source":[
        "credit_card = pd.get_dummies(credit_card, columns=['EDUCATION', 'MARRIAGE'])"
      ],
      "execution_count":12,
      "outputs":[
        
      ],
      "metadata":{
        
      }
    },
    {
      "cell_type":"code",
      "source":[
        "credit_card.head()"
      ],
      "execution_count":13,
      "outputs":[
        {
          "data":{
            "text\/html":[
              "<div>\n",
              "<style scoped>\n",
              "    .dataframe tbody tr th:only-of-type {\n",
              "        vertical-align: middle;\n",
              "    }\n",
              "\n",
              "    .dataframe tbody tr th {\n",
              "        vertical-align: top;\n",
              "    }\n",
              "\n",
              "    .dataframe thead th {\n",
              "        text-align: right;\n",
              "    }\n",
              "<\/style>\n",
              "<table border=\"1\" class=\"dataframe\">\n",
              "  <thead>\n",
              "    <tr style=\"text-align: right;\">\n",
              "      <th><\/th>\n",
              "      <th>LIMIT_BAL<\/th>\n",
              "      <th>SEX<\/th>\n",
              "      <th>AGE<\/th>\n",
              "      <th>PAY_0<\/th>\n",
              "      <th>PAY_2<\/th>\n",
              "      <th>PAY_3<\/th>\n",
              "      <th>PAY_4<\/th>\n",
              "      <th>PAY_5<\/th>\n",
              "      <th>PAY_6<\/th>\n",
              "      <th>BILL_AMT1<\/th>\n",
              "      <th>...<\/th>\n",
              "      <th>EDUCATION_1<\/th>\n",
              "      <th>EDUCATION_2<\/th>\n",
              "      <th>EDUCATION_3<\/th>\n",
              "      <th>EDUCATION_4<\/th>\n",
              "      <th>EDUCATION_5<\/th>\n",
              "      <th>EDUCATION_6<\/th>\n",
              "      <th>MARRIAGE_0<\/th>\n",
              "      <th>MARRIAGE_1<\/th>\n",
              "      <th>MARRIAGE_2<\/th>\n",
              "      <th>MARRIAGE_3<\/th>\n",
              "    <\/tr>\n",
              "  <\/thead>\n",
              "  <tbody>\n",
              "    <tr>\n",
              "      <th>0<\/th>\n",
              "      <td>20000.0<\/td>\n",
              "      <td>2<\/td>\n",
              "      <td>24<\/td>\n",
              "      <td>2<\/td>\n",
              "      <td>2<\/td>\n",
              "      <td>-1<\/td>\n",
              "      <td>-1<\/td>\n",
              "      <td>-2<\/td>\n",
              "      <td>-2<\/td>\n",
              "      <td>3913.0<\/td>\n",
              "      <td>...<\/td>\n",
              "      <td>0<\/td>\n",
              "      <td>1<\/td>\n",
              "      <td>0<\/td>\n",
              "      <td>0<\/td>\n",
              "      <td>0<\/td>\n",
              "      <td>0<\/td>\n",
              "      <td>0<\/td>\n",
              "      <td>1<\/td>\n",
              "      <td>0<\/td>\n",
              "      <td>0<\/td>\n",
              "    <\/tr>\n",
              "    <tr>\n",
              "      <th>1<\/th>\n",
              "      <td>120000.0<\/td>\n",
              "      <td>2<\/td>\n",
              "      <td>26<\/td>\n",
              "      <td>-1<\/td>\n",
              "      <td>2<\/td>\n",
              "      <td>0<\/td>\n",
              "      <td>0<\/td>\n",
              "      <td>0<\/td>\n",
              "      <td>2<\/td>\n",
              "      <td>2682.0<\/td>\n",
              "      <td>...<\/td>\n",
              "      <td>0<\/td>\n",
              "      <td>1<\/td>\n",
              "      <td>0<\/td>\n",
              "      <td>0<\/td>\n",
              "      <td>0<\/td>\n",
              "      <td>0<\/td>\n",
              "      <td>0<\/td>\n",
              "      <td>0<\/td>\n",
              "      <td>1<\/td>\n",
              "      <td>0<\/td>\n",
              "    <\/tr>\n",
              "    <tr>\n",
              "      <th>2<\/th>\n",
              "      <td>90000.0<\/td>\n",
              "      <td>2<\/td>\n",
              "      <td>34<\/td>\n",
              "      <td>0<\/td>\n",
              "      <td>0<\/td>\n",
              "      <td>0<\/td>\n",
              "      <td>0<\/td>\n",
              "      <td>0<\/td>\n",
              "      <td>0<\/td>\n",
              "      <td>29239.0<\/td>\n",
              "      <td>...<\/td>\n",
              "      <td>0<\/td>\n",
              "      <td>1<\/td>\n",
              "      <td>0<\/td>\n",
              "      <td>0<\/td>\n",
              "      <td>0<\/td>\n",
              "      <td>0<\/td>\n",
              "      <td>0<\/td>\n",
              "      <td>0<\/td>\n",
              "      <td>1<\/td>\n",
              "      <td>0<\/td>\n",
              "    <\/tr>\n",
              "    <tr>\n",
              "      <th>3<\/th>\n",
              "      <td>50000.0<\/td>\n",
              "      <td>2<\/td>\n",
              "      <td>37<\/td>\n",
              "      <td>0<\/td>\n",
              "      <td>0<\/td>\n",
              "      <td>0<\/td>\n",
              "      <td>0<\/td>\n",
              "      <td>0<\/td>\n",
              "      <td>0<\/td>\n",
              "      <td>46990.0<\/td>\n",
              "      <td>...<\/td>\n",
              "      <td>0<\/td>\n",
              "      <td>1<\/td>\n",
              "      <td>0<\/td>\n",
              "      <td>0<\/td>\n",
              "      <td>0<\/td>\n",
              "      <td>0<\/td>\n",
              "      <td>0<\/td>\n",
              "      <td>1<\/td>\n",
              "      <td>0<\/td>\n",
              "      <td>0<\/td>\n",
              "    <\/tr>\n",
              "    <tr>\n",
              "      <th>4<\/th>\n",
              "      <td>50000.0<\/td>\n",
              "      <td>1<\/td>\n",
              "      <td>57<\/td>\n",
              "      <td>-1<\/td>\n",
              "      <td>0<\/td>\n",
              "      <td>-1<\/td>\n",
              "      <td>0<\/td>\n",
              "      <td>0<\/td>\n",
              "      <td>0<\/td>\n",
              "      <td>8617.0<\/td>\n",
              "      <td>...<\/td>\n",
              "      <td>0<\/td>\n",
              "      <td>1<\/td>\n",
              "      <td>0<\/td>\n",
              "      <td>0<\/td>\n",
              "      <td>0<\/td>\n",
              "      <td>0<\/td>\n",
              "      <td>0<\/td>\n",
              "      <td>1<\/td>\n",
              "      <td>0<\/td>\n",
              "      <td>0<\/td>\n",
              "    <\/tr>\n",
              "  <\/tbody>\n",
              "<\/table>\n",
              "<p>5 rows × 33 columns<\/p>\n",
              "<\/div>"
            ]
          },
          "metadata":{
            
          },
          "output_type":"display_data"
        }
      ],
      "metadata":{
        
      }
    },
    {
      "cell_type":"code",
      "source":[
        "x = credit_card.drop(columns=['default.payment.next.month'], axis = 1)\n",
        "y = credit_card['default.payment.next.month']"
      ],
      "execution_count":14,
      "outputs":[
        
      ],
      "metadata":{
        
      }
    },
    {
      "cell_type":"code",
      "source":[
        "from sklearn.preprocessing import  MinMaxScaler\n",
        "scaler = MinMaxScaler()\n",
        "x_scaled = scaler.fit_transform(x)"
      ],
      "execution_count":15,
      "outputs":[
        
      ],
      "metadata":{
        
      }
    },
    {
      "cell_type":"code",
      "source":[
        "from sklearn.model_selection import train_test_split\n",
        "x_train, x_test, y_train, y_test = train_test_split(x_scaled, y, test_size = 0.30)"
      ],
      "execution_count":17,
      "outputs":[
        
      ],
      "metadata":{
        
      }
    },
    {
      "cell_type":"code",
      "source":[
        "x_train.shape"
      ],
      "execution_count":66,
      "outputs":[
        {
          "data":{
            "text\/plain":[
              "(21000, 32)"
            ]
          },
          "metadata":{
            
          },
          "output_type":"display_data"
        }
      ],
      "metadata":{
        
      }
    },
    {
      "cell_type":"code",
      "source":[
        "x_test.shape"
      ],
      "execution_count":67,
      "outputs":[
        {
          "data":{
            "text\/plain":[
              "(9000, 32)"
            ]
          },
          "metadata":{
            
          },
          "output_type":"display_data"
        }
      ],
      "metadata":{
        
      }
    },
    {
      "cell_type":"markdown",
      "source":[
        "# TASK #5: UNDERSTAND THE THEORY AND INTUITION BEHIND XGBOOST ALGORITHM"
      ],
      "metadata":{
        
      }
    },
    {
      "cell_type":"markdown",
      "source":[
        "![alt text](https:\/\/drive.google.com\/uc?id=1jFH01bj3HFgojFZoAf4lHPRo5t0Mmktx)"
      ],
      "metadata":{
        
      }
    },
    {
      "cell_type":"markdown",
      "source":[
        "![alt text](https:\/\/drive.google.com\/uc?id=16K75Is5UOP-YQqneIR0yUpiR-Q7K5hfJ)"
      ],
      "metadata":{
        
      }
    },
    {
      "cell_type":"markdown",
      "source":[
        "![alt text](https:\/\/drive.google.com\/uc?id=1JAfjOhzUMsfJOvcOzPvMMYQN56JHXW3R)"
      ],
      "metadata":{
        
      }
    },
    {
      "cell_type":"markdown",
      "source":[
        "![alt text](https:\/\/drive.google.com\/uc?id=1dn61Jz_zGpKv7VTLQvLbp_0S1XwP9X6W)"
      ],
      "metadata":{
        
      }
    },
    {
      "cell_type":"markdown",
      "source":[
        "![alt text](https:\/\/drive.google.com\/uc?id=1qW-p617bJnRWzh-fWCQfXWyHF4F6vFzD)"
      ],
      "metadata":{
        
      }
    },
    {
      "cell_type":"markdown",
      "source":[
        "![alt text](https:\/\/drive.google.com\/uc?id=1vywPBzlXqqrcg1K_rqEfeAjZAXjxXCCk)"
      ],
      "metadata":{
        
      }
    },
    {
      "cell_type":"markdown",
      "source":[
        "![alt text](https:\/\/drive.google.com\/uc?id=1ZRG6Uo7r6W9DBFO5tDh90-xA57ajnnnn)"
      ],
      "metadata":{
        
      }
    },
    {
      "cell_type":"markdown",
      "source":[
        "![alt text](https:\/\/drive.google.com\/uc?id=19t3DHRXvoz6o7-eG90L-4jHe0cfBdH_x)"
      ],
      "metadata":{
        
      }
    },
    {
      "cell_type":"markdown",
      "source":[
        "![alt text](https:\/\/drive.google.com\/uc?id=15xcYP8mOOEgUnR0rIXSovoIqUY3ySJRb)"
      ],
      "metadata":{
        
      }
    },
    {
      "cell_type":"markdown",
      "source":[
        "![alt text](https:\/\/drive.google.com\/uc?id=1Q3UzxrlwbH9jZkl6tEDO2L5AOanS-kqD)"
      ],
      "metadata":{
        
      }
    },
    {
      "cell_type":"markdown",
      "source":[
        "![alt text](https:\/\/drive.google.com\/uc?id=1rDFPOeoX8pM60ZxnIg-K66IjbqRHHnPG)"
      ],
      "metadata":{
        
      }
    },
    {
      "cell_type":"markdown",
      "source":[
        "# TASK #6: UNDERSTAND XGBOOST ALGORITHM KEY STEPS"
      ],
      "metadata":{
        
      }
    },
    {
      "cell_type":"markdown",
      "source":[
        "![alt text](https:\/\/drive.google.com\/uc?id=13wDmGpYDA0c-lewGJWXpjVJcPav381Lh)"
      ],
      "metadata":{
        
      }
    },
    {
      "cell_type":"markdown",
      "source":[
        "![alt text](https:\/\/drive.google.com\/uc?id=1Pxbku6A5FvJsvCsVl6sKk6N3PHg5_IRI)"
      ],
      "metadata":{
        
      }
    },
    {
      "cell_type":"markdown",
      "source":[
        "![alt text](https:\/\/drive.google.com\/uc?id=1Q6-oFxjZEAU4qUFzPXj3hKXQMWQlPx99)"
      ],
      "metadata":{
        
      }
    },
    {
      "cell_type":"markdown",
      "source":[
        "![alt text](https:\/\/drive.google.com\/uc?id=1djdQCC99-bZBRB7txj_jT68a8-IHixl6)"
      ],
      "metadata":{
        
      }
    },
    {
      "cell_type":"markdown",
      "source":[
        "![alt text](https:\/\/drive.google.com\/uc?id=1cStZqzA9ez-EfvSoM8S_1xEMtYBjRMOB)"
      ],
      "metadata":{
        
      }
    },
    {
      "cell_type":"markdown",
      "source":[
        "![alt text](https:\/\/drive.google.com\/uc?id=1IF2iJ_uquTRJ89lA5PIEX0WfF42ONIwt)"
      ],
      "metadata":{
        
      }
    },
    {
      "cell_type":"markdown",
      "source":[
        "![alt text](https:\/\/drive.google.com\/uc?id=1FoknM1AqDlDa4xdLyshs0KNE4kA1nCLY)"
      ],
      "metadata":{
        
      }
    },
    {
      "cell_type":"markdown",
      "source":[
        "![alt text](https:\/\/drive.google.com\/uc?id=1ZJ5vqYAur2p9G6bZkO9XjPbeSME1k3Wo)"
      ],
      "metadata":{
        
      }
    },
    {
      "cell_type":"markdown",
      "source":[
        "![alt text](https:\/\/drive.google.com\/uc?id=1XMBkju1Ej6RXm-lEvVKwuiMklnUv6WWT)"
      ],
      "metadata":{
        
      }
    },
    {
      "cell_type":"markdown",
      "source":[
        "![alt text](https:\/\/drive.google.com\/uc?id=1jINWBW2OT1BPLK6As0LyYESdcGcnbrYM)"
      ],
      "metadata":{
        
      }
    },
    {
      "cell_type":"markdown",
      "source":[
        "![alt text](https:\/\/drive.google.com\/uc?id=1jgF3Q2FUTbNpAC-d5EDXOVAa7xnI68mK)"
      ],
      "metadata":{
        
      }
    },
    {
      "cell_type":"markdown",
      "source":[
        "# TASK #7: TRAIN AND EVALUATE AN XGBOOST CLASSIFIER (LOCALLY)"
      ],
      "metadata":{
        
      }
    },
    {
      "cell_type":"code",
      "source":[
        "!pip install xgboost"
      ],
      "execution_count":18,
      "outputs":[
        {
          "name":"stdout",
          "text":[
            "Requirement already satisfied: xgboost in \/opt\/anaconda3\/envs\/datalore-user\/lib\/python3.7\/site-packages (1.2.0)\r\n",
            "Requirement already satisfied: numpy in \/opt\/anaconda3\/envs\/datalore-user\/lib\/python3.7\/site-packages (from xgboost) (1.19.2)\r\n",
            "Requirement already satisfied: scipy in \/opt\/anaconda3\/envs\/datalore-user\/lib\/python3.7\/site-packages (from xgboost) (1.5.2)\r\n"
          ],
          "output_type":"stream"
        }
      ],
      "metadata":{
        
      }
    },
    {
      "cell_type":"code",
      "source":[
        "# Train an XGBoost regressor model \n",
        "\n",
        "import xgboost as xgb\n",
        "\n",
        "\n",
        "model = xgb.XGBClassifier(objective ='reg:squarederror', learning_rate = 0.1, max_depth = 5, n_estimators = 100)\n",
        "\n",
        "model.fit(x_train, y_train)"
      ],
      "execution_count":19,
      "outputs":[
        {
          "data":{
            "text\/plain":[
              "XGBClassifier(base_score=0.5, booster='gbtree', colsample_bylevel=1,\n",
              "              colsample_bynode=1, colsample_bytree=1, gamma=0, gpu_id=-1,\n",
              "              importance_type='gain', interaction_constraints='',\n",
              "              learning_rate=0.1, max_delta_step=0, max_depth=5,\n",
              "              min_child_weight=1, missing=nan, monotone_constraints='()',\n",
              "              n_estimators=100, n_jobs=0, num_parallel_tree=1,\n",
              "              objective='reg:squarederror', random_state=0, reg_alpha=0,\n",
              "              reg_lambda=1, scale_pos_weight=1, subsample=1,\n",
              "              tree_method='exact', validate_parameters=1, verbosity=None)"
            ]
          },
          "metadata":{
            
          },
          "output_type":"display_data"
        }
      ],
      "metadata":{
        
      }
    },
    {
      "cell_type":"code",
      "source":[
        "y_pred = model.predict(x_test)"
      ],
      "execution_count":20,
      "outputs":[
        
      ],
      "metadata":{
        
      }
    },
    {
      "cell_type":"code",
      "source":[
        "y_pred"
      ],
      "execution_count":21,
      "outputs":[
        {
          "data":{
            "text\/plain":[
              "array([0, 0, 0, ..., 0, 0, 0])"
            ]
          },
          "metadata":{
            
          },
          "output_type":"display_data"
        }
      ],
      "metadata":{
        
      }
    },
    {
      "cell_type":"code",
      "source":[
        "from sklearn.metrics import confusion_matrix, classification_report, accuracy_score\n",
        "\n",
        "print(\"Accuracy {} %\".format( 100 * accuracy_score(y_pred, y_test)))"
      ],
      "execution_count":22,
      "outputs":[
        {
          "name":"stdout",
          "text":[
            "Accuracy 81.17777777777778 %\n"
          ],
          "output_type":"stream"
        }
      ],
      "metadata":{
        
      }
    },
    {
      "cell_type":"code",
      "source":[
        "# Testing Set Performance\n",
        "cm = confusion_matrix(y_pred, y_test)\n",
        "print(cm)"
      ],
      "execution_count":23,
      "outputs":[
        {
          "name":"stdout",
          "text":[
            "[[6640 1314]\n",
            " [ 380  666]]\n"
          ],
          "output_type":"stream"
        }
      ],
      "metadata":{
        
      }
    },
    {
      "cell_type":"code",
      "source":[
        "print(classification_report(y_test, y_pred))"
      ],
      "execution_count":24,
      "outputs":[
        {
          "name":"stdout",
          "text":[
            "              precision    recall  f1-score   support\n",
            "\n",
            "           0       0.83      0.95      0.89      7020\n",
            "           1       0.64      0.34      0.44      1980\n",
            "\n",
            "    accuracy                           0.81      9000\n",
            "   macro avg       0.74      0.64      0.66      9000\n",
            "weighted avg       0.79      0.81      0.79      9000\n",
            "\n"
          ],
          "output_type":"stream"
        }
      ],
      "metadata":{
        
      }
    },
    {
      "cell_type":"markdown",
      "source":[
        "# TASK #8: OPTIMIZE XGBOOST HYPERPARAMETERS BY PERFORMING GRID SEARCH"
      ],
      "metadata":{
        
      }
    },
    {
      "cell_type":"code",
      "source":[
        "param_grid = {\n",
        "        'gamma': [0.5, 1, 5],   # regularization parameter \n",
        "        'subsample': [0.6, 0.8, 1.0], # % of rows taken to build each tree\n",
        "        'colsample_bytree': [0.6, 0.8, 1.0], # number of columns used by each tree\n",
        "        'max_depth': [3, 4, 5] # depth of each tree\n",
        "        }"
      ],
      "execution_count":25,
      "outputs":[
        
      ],
      "metadata":{
        
      }
    },
    {
      "cell_type":"code",
      "source":[
        "from xgboost import XGBClassifier\n",
        "\n",
        "xgb_model = XGBClassifier(learning_rate=0.01, n_estimators=100, objective='binary:logistic')\n",
        "from sklearn.model_selection import GridSearchCV\n",
        "grid = GridSearchCV(xgb_model, param_grid, refit = True, verbose = 4)\n",
        "grid.fit(x_train, y_train)"
      ],
      "execution_count":26,
      "outputs":[
        {
          "name":"stdout",
          "text":[
            "Fitting 5 folds for each of 81 candidates, totalling 405 fits\n",
            "[CV 1\/5] END colsample_bytree=0.6, gamma=0.5, max_depth=3, subsample=0.6; total time=   1.3s\n",
            "[CV 2\/5] END colsample_bytree=0.6, gamma=0.5, max_depth=3, subsample=0.6; total time=   1.2s\n",
            "[CV 3\/5] END colsample_bytree=0.6, gamma=0.5, max_depth=3, subsample=0.6; total time=   1.2s\n",
            "[CV 4\/5] END colsample_bytree=0.6, gamma=0.5, max_depth=3, subsample=0.6; total time=   2.2s\n",
            "[CV 5\/5] END colsample_bytree=0.6, gamma=0.5, max_depth=3, subsample=0.6; total time=   2.4s\n",
            "[CV 1\/5] END colsample_bytree=0.6, gamma=0.5, max_depth=3, subsample=0.8; total time=   1.2s\n",
            "[CV 2\/5] END colsample_bytree=0.6, gamma=0.5, max_depth=3, subsample=0.8; total time=   1.2s\n",
            "[CV 3\/5] END colsample_bytree=0.6, gamma=0.5, max_depth=3, subsample=0.8; total time=   1.1s\n",
            "[CV 4\/5] END colsample_bytree=0.6, gamma=0.5, max_depth=3, subsample=0.8; total time=   1.2s\n",
            "[CV 5\/5] END colsample_bytree=0.6, gamma=0.5, max_depth=3, subsample=0.8; total time=   1.2s\n",
            "[CV 1\/5] END colsample_bytree=0.6, gamma=0.5, max_depth=3, subsample=1.0; total time=   1.1s\n",
            "[CV 2\/5] END colsample_bytree=0.6, gamma=0.5, max_depth=3, subsample=1.0; total time=   1.1s\n",
            "[CV 3\/5] END colsample_bytree=0.6, gamma=0.5, max_depth=3, subsample=1.0; total time=   1.1s\n",
            "[CV 4\/5] END colsample_bytree=0.6, gamma=0.5, max_depth=3, subsample=1.0; total time=   1.1s\n",
            "[CV 5\/5] END colsample_bytree=0.6, gamma=0.5, max_depth=3, subsample=1.0; total time=   1.1s\n",
            "[CV 1\/5] END colsample_bytree=0.6, gamma=0.5, max_depth=4, subsample=0.6; total time=   7.7s\n",
            "[CV 2\/5] END colsample_bytree=0.6, gamma=0.5, max_depth=4, subsample=0.6; total time=   8.0s\n",
            "[CV 3\/5] END colsample_bytree=0.6, gamma=0.5, max_depth=4, subsample=0.6; total time=   7.9s\n",
            "[CV 4\/5] END colsample_bytree=0.6, gamma=0.5, max_depth=4, subsample=0.6; total time=   7.9s\n",
            "[CV 5\/5] END colsample_bytree=0.6, gamma=0.5, max_depth=4, subsample=0.6; total time=   8.0s\n",
            "[CV 1\/5] END colsample_bytree=0.6, gamma=0.5, max_depth=4, subsample=0.8; total time=   8.2s\n",
            "[CV 2\/5] END colsample_bytree=0.6, gamma=0.5, max_depth=4, subsample=0.8; total time=  20.5s\n",
            "[CV 3\/5] END colsample_bytree=0.6, gamma=0.5, max_depth=4, subsample=0.8; total time=   7.9s\n",
            "[CV 4\/5] END colsample_bytree=0.6, gamma=0.5, max_depth=4, subsample=0.8; total time=   7.8s\n",
            "[CV 5\/5] END colsample_bytree=0.6, gamma=0.5, max_depth=4, subsample=0.8; total time=   7.8s\n",
            "[CV 1\/5] END colsample_bytree=0.6, gamma=0.5, max_depth=4, subsample=1.0; total time=   7.6s\n",
            "[CV 2\/5] END colsample_bytree=0.6, gamma=0.5, max_depth=4, subsample=1.0; total time=   7.7s\n",
            "[CV 3\/5] END colsample_bytree=0.6, gamma=0.5, max_depth=4, subsample=1.0; total time=   7.5s\n",
            "[CV 4\/5] END colsample_bytree=0.6, gamma=0.5, max_depth=4, subsample=1.0; total time=   7.6s\n",
            "[CV 5\/5] END colsample_bytree=0.6, gamma=0.5, max_depth=4, subsample=1.0; total time=  10.1s\n",
            "[CV 1\/5] END colsample_bytree=0.6, gamma=0.5, max_depth=5, subsample=0.6; total time=  19.5s\n",
            "[CV 2\/5] END colsample_bytree=0.6, gamma=0.5, max_depth=5, subsample=0.6; total time=  10.0s\n",
            "[CV 3\/5] END colsample_bytree=0.6, gamma=0.5, max_depth=5, subsample=0.6; total time=  10.0s\n",
            "[CV 4\/5] END colsample_bytree=0.6, gamma=0.5, max_depth=5, subsample=0.6; total time=   9.9s\n",
            "[CV 5\/5] END colsample_bytree=0.6, gamma=0.5, max_depth=5, subsample=0.6; total time=   9.8s\n",
            "[CV 1\/5] END colsample_bytree=0.6, gamma=0.5, max_depth=5, subsample=0.8; total time=   9.6s\n",
            "[CV 2\/5] END colsample_bytree=0.6, gamma=0.5, max_depth=5, subsample=0.8; total time=  14.2s\n",
            "[CV 3\/5] END colsample_bytree=0.6, gamma=0.5, max_depth=5, subsample=0.8; total time=  17.1s\n",
            "[CV 4\/5] END colsample_bytree=0.6, gamma=0.5, max_depth=5, subsample=0.8; total time=   9.6s\n",
            "[CV 5\/5] END colsample_bytree=0.6, gamma=0.5, max_depth=5, subsample=0.8; total time=   9.6s\n",
            "[CV 1\/5] END colsample_bytree=0.6, gamma=0.5, max_depth=5, subsample=1.0; total time=   9.5s\n",
            "[CV 2\/5] END colsample_bytree=0.6, gamma=0.5, max_depth=5, subsample=1.0; total time=   9.4s\n",
            "[CV 3\/5] END colsample_bytree=0.6, gamma=0.5, max_depth=5, subsample=1.0; total time=   9.4s\n",
            "[CV 4\/5] END colsample_bytree=0.6, gamma=0.5, max_depth=5, subsample=1.0; total time=  12.8s\n",
            "[CV 5\/5] END colsample_bytree=0.6, gamma=0.5, max_depth=5, subsample=1.0; total time=  18.5s\n",
            "[CV 1\/5] END colsample_bytree=0.6, gamma=1, max_depth=3, subsample=0.6; total time=   6.6s\n",
            "[CV 2\/5] END colsample_bytree=0.6, gamma=1, max_depth=3, subsample=0.6; total time=   6.3s\n",
            "[CV 3\/5] END colsample_bytree=0.6, gamma=1, max_depth=3, subsample=0.6; total time=   6.4s\n",
            "[CV 4\/5] END colsample_bytree=0.6, gamma=1, max_depth=3, subsample=0.6; total time=   6.4s\n",
            "[CV 5\/5] END colsample_bytree=0.6, gamma=1, max_depth=3, subsample=0.6; total time=   6.4s\n",
            "[CV 1\/5] END colsample_bytree=0.6, gamma=1, max_depth=3, subsample=0.8; total time=   6.3s\n",
            "[CV 2\/5] END colsample_bytree=0.6, gamma=1, max_depth=3, subsample=0.8; total time=   6.2s\n",
            "[CV 3\/5] END colsample_bytree=0.6, gamma=1, max_depth=3, subsample=0.8; total time=   6.3s\n",
            "[CV 4\/5] END colsample_bytree=0.6, gamma=1, max_depth=3, subsample=0.8; total time=   6.6s\n",
            "[CV 5\/5] END colsample_bytree=0.6, gamma=1, max_depth=3, subsample=0.8; total time=  16.8s\n",
            "[CV 1\/5] END colsample_bytree=0.6, gamma=1, max_depth=3, subsample=1.0; total time=   7.1s\n",
            "[CV 2\/5] END colsample_bytree=0.6, gamma=1, max_depth=3, subsample=1.0; total time=   5.9s\n",
            "[CV 3\/5] END colsample_bytree=0.6, gamma=1, max_depth=3, subsample=1.0; total time=   6.2s\n",
            "[CV 4\/5] END colsample_bytree=0.6, gamma=1, max_depth=3, subsample=1.0; total time=   6.0s\n",
            "[CV 5\/5] END colsample_bytree=0.6, gamma=1, max_depth=3, subsample=1.0; total time=   6.1s\n",
            "[CV 1\/5] END colsample_bytree=0.6, gamma=1, max_depth=4, subsample=0.6; total time=   8.0s\n",
            "[CV 2\/5] END colsample_bytree=0.6, gamma=1, max_depth=4, subsample=0.6; total time=   8.0s\n",
            "[CV 3\/5] END colsample_bytree=0.6, gamma=1, max_depth=4, subsample=0.6; total time=   7.9s\n",
            "[CV 4\/5] END colsample_bytree=0.6, gamma=1, max_depth=4, subsample=0.6; total time=  10.1s\n",
            "[CV 5\/5] END colsample_bytree=0.6, gamma=1, max_depth=4, subsample=0.6; total time=  17.7s\n",
            "[CV 1\/5] END colsample_bytree=0.6, gamma=1, max_depth=4, subsample=0.8; total time=   7.9s\n",
            "[CV 2\/5] END colsample_bytree=0.6, gamma=1, max_depth=4, subsample=0.8; total time=   7.7s\n",
            "[CV 3\/5] END colsample_bytree=0.6, gamma=1, max_depth=4, subsample=0.8; total time=   7.9s\n",
            "[CV 4\/5] END colsample_bytree=0.6, gamma=1, max_depth=4, subsample=0.8; total time=   7.8s\n",
            "[CV 5\/5] END colsample_bytree=0.6, gamma=1, max_depth=4, subsample=0.8; total time=   7.9s\n",
            "[CV 1\/5] END colsample_bytree=0.6, gamma=1, max_depth=4, subsample=1.0; total time=   7.6s\n",
            "[CV 2\/5] END colsample_bytree=0.6, gamma=1, max_depth=4, subsample=1.0; total time=   7.9s\n",
            "[CV 3\/5] END colsample_bytree=0.6, gamma=1, max_depth=4, subsample=1.0; total time=  13.1s\n",
            "[CV 4\/5] END colsample_bytree=0.6, gamma=1, max_depth=4, subsample=1.0; total time=  14.1s\n",
            "[CV 5\/5] END colsample_bytree=0.6, gamma=1, max_depth=4, subsample=1.0; total time=   7.6s\n",
            "[CV 1\/5] END colsample_bytree=0.6, gamma=1, max_depth=5, subsample=0.6; total time=  10.0s\n",
            "[CV 2\/5] END colsample_bytree=0.6, gamma=1, max_depth=5, subsample=0.6; total time=   9.7s\n",
            "[CV 3\/5] END colsample_bytree=0.6, gamma=1, max_depth=5, subsample=0.6; total time=  10.1s\n",
            "[CV 4\/5] END colsample_bytree=0.6, gamma=1, max_depth=5, subsample=0.6; total time=  10.1s\n",
            "[CV 5\/5] END colsample_bytree=0.6, gamma=1, max_depth=5, subsample=0.6; total time=   9.8s\n",
            "[CV 1\/5] END colsample_bytree=0.6, gamma=1, max_depth=5, subsample=0.8; total time=  22.2s\n",
            "[CV 2\/5] END colsample_bytree=0.6, gamma=1, max_depth=5, subsample=0.8; total time=   9.6s\n",
            "[CV 3\/5] END colsample_bytree=0.6, gamma=1, max_depth=5, subsample=0.8; total time=   9.9s\n",
            "[CV 4\/5] END colsample_bytree=0.6, gamma=1, max_depth=5, subsample=0.8; total time=   9.9s\n",
            "[CV 5\/5] END colsample_bytree=0.6, gamma=1, max_depth=5, subsample=0.8; total time=   9.6s\n",
            "[CV 1\/5] END colsample_bytree=0.6, gamma=1, max_depth=5, subsample=1.0; total time=   9.4s\n",
            "[CV 2\/5] END colsample_bytree=0.6, gamma=1, max_depth=5, subsample=1.0; total time=   9.5s\n",
            "[CV 3\/5] END colsample_bytree=0.6, gamma=1, max_depth=5, subsample=1.0; total time=  22.3s\n",
            "[CV 4\/5] END colsample_bytree=0.6, gamma=1, max_depth=5, subsample=1.0; total time=   9.4s\n",
            "[CV 5\/5] END colsample_bytree=0.6, gamma=1, max_depth=5, subsample=1.0; total time=   9.5s\n",
            "[CV 1\/5] END colsample_bytree=0.6, gamma=5, max_depth=3, subsample=0.6; total time=   6.3s\n",
            "[CV 2\/5] END colsample_bytree=0.6, gamma=5, max_depth=3, subsample=0.6; total time=   6.3s\n",
            "[CV 3\/5] END colsample_bytree=0.6, gamma=5, max_depth=3, subsample=0.6; total time=   6.3s\n",
            "[CV 4\/5] END colsample_bytree=0.6, gamma=5, max_depth=3, subsample=0.6; total time=   6.4s\n",
            "[CV 5\/5] END colsample_bytree=0.6, gamma=5, max_depth=3, subsample=0.6; total time=   6.3s\n",
            "[CV 1\/5] END colsample_bytree=0.6, gamma=5, max_depth=3, subsample=0.8; total time=   6.4s\n",
            "[CV 2\/5] END colsample_bytree=0.6, gamma=5, max_depth=3, subsample=0.8; total time=  11.7s\n",
            "[CV 3\/5] END colsample_bytree=0.6, gamma=5, max_depth=3, subsample=0.8; total time=  13.0s\n",
            "[CV 4\/5] END colsample_bytree=0.6, gamma=5, max_depth=3, subsample=0.8; total time=   6.2s\n",
            "[CV 5\/5] END colsample_bytree=0.6, gamma=5, max_depth=3, subsample=0.8; total time=   6.1s\n",
            "[CV 1\/5] END colsample_bytree=0.6, gamma=5, max_depth=3, subsample=1.0; total time=   6.0s\n",
            "[CV 2\/5] END colsample_bytree=0.6, gamma=5, max_depth=3, subsample=1.0; total time=   5.9s\n",
            "[CV 3\/5] END colsample_bytree=0.6, gamma=5, max_depth=3, subsample=1.0; total time=   6.1s\n",
            "[CV 4\/5] END colsample_bytree=0.6, gamma=5, max_depth=3, subsample=1.0; total time=   6.0s\n",
            "[CV 5\/5] END colsample_bytree=0.6, gamma=5, max_depth=3, subsample=1.0; total time=   6.1s\n",
            "[CV 1\/5] END colsample_bytree=0.6, gamma=5, max_depth=4, subsample=0.6; total time=   8.1s\n",
            "[CV 2\/5] END colsample_bytree=0.6, gamma=5, max_depth=4, subsample=0.6; total time=   8.0s\n",
            "[CV 3\/5] END colsample_bytree=0.6, gamma=5, max_depth=4, subsample=0.6; total time=  18.2s\n",
            "[CV 4\/5] END colsample_bytree=0.6, gamma=5, max_depth=4, subsample=0.6; total time=   9.6s\n",
            "[CV 5\/5] END colsample_bytree=0.6, gamma=5, max_depth=4, subsample=0.6; total time=   8.2s\n",
            "[CV 1\/5] END colsample_bytree=0.6, gamma=5, max_depth=4, subsample=0.8; total time=   7.8s\n",
            "[CV 2\/5] END colsample_bytree=0.6, gamma=5, max_depth=4, subsample=0.8; total time=   7.9s\n",
            "[CV 3\/5] END colsample_bytree=0.6, gamma=5, max_depth=4, subsample=0.8; total time=   7.8s\n",
            "[CV 4\/5] END colsample_bytree=0.6, gamma=5, max_depth=4, subsample=0.8; total time=   7.9s\n",
            "[CV 5\/5] END colsample_bytree=0.6, gamma=5, max_depth=4, subsample=0.8; total time=   7.8s\n",
            "[CV 1\/5] END colsample_bytree=0.6, gamma=5, max_depth=4, subsample=1.0; total time=  10.8s\n",
            "[CV 2\/5] END colsample_bytree=0.6, gamma=5, max_depth=4, subsample=1.0; total time=  16.3s\n",
            "[CV 3\/5] END colsample_bytree=0.6, gamma=5, max_depth=4, subsample=1.0; total time=   7.6s\n",
            "[CV 4\/5] END colsample_bytree=0.6, gamma=5, max_depth=4, subsample=1.0; total time=   7.7s\n",
            "[CV 5\/5] END colsample_bytree=0.6, gamma=5, max_depth=4, subsample=1.0; total time=   7.6s\n",
            "[CV 1\/5] END colsample_bytree=0.6, gamma=5, max_depth=5, subsample=0.6; total time=  10.0s\n",
            "[CV 2\/5] END colsample_bytree=0.6, gamma=5, max_depth=5, subsample=0.6; total time=   9.8s\n",
            "[CV 3\/5] END colsample_bytree=0.6, gamma=5, max_depth=5, subsample=0.6; total time=  10.3s\n",
            "[CV 4\/5] END colsample_bytree=0.6, gamma=5, max_depth=5, subsample=0.6; total time=  17.2s\n",
            "[CV 5\/5] END colsample_bytree=0.6, gamma=5, max_depth=5, subsample=0.6; total time=  14.1s\n",
            "[CV 1\/5] END colsample_bytree=0.6, gamma=5, max_depth=5, subsample=0.8; total time=   9.6s\n",
            "[CV 2\/5] END colsample_bytree=0.6, gamma=5, max_depth=5, subsample=0.8; total time=   9.6s\n",
            "[CV 3\/5] END colsample_bytree=0.6, gamma=5, max_depth=5, subsample=0.8; total time=  11.2s\n",
            "[CV 4\/5] END colsample_bytree=0.6, gamma=5, max_depth=5, subsample=0.8; total time=   9.8s\n",
            "[CV 5\/5] END colsample_bytree=0.6, gamma=5, max_depth=5, subsample=0.8; total time=   9.6s\n",
            "[CV 1\/5] END colsample_bytree=0.6, gamma=5, max_depth=5, subsample=1.0; total time=  18.8s\n",
            "[CV 2\/5] END colsample_bytree=0.6, gamma=5, max_depth=5, subsample=1.0; total time=  13.2s\n",
            "[CV 3\/5] END colsample_bytree=0.6, gamma=5, max_depth=5, subsample=1.0; total time=   9.7s\n",
            "[CV 4\/5] END colsample_bytree=0.6, gamma=5, max_depth=5, subsample=1.0; total time=   9.5s\n",
            "[CV 5\/5] END colsample_bytree=0.6, gamma=5, max_depth=5, subsample=1.0; total time=   9.6s\n",
            "[CV 1\/5] END colsample_bytree=0.8, gamma=0.5, max_depth=3, subsample=0.6; total time=   7.5s\n",
            "[CV 2\/5] END colsample_bytree=0.8, gamma=0.5, max_depth=3, subsample=0.6; total time=   7.5s\n",
            "[CV 3\/5] END colsample_bytree=0.8, gamma=0.5, max_depth=3, subsample=0.6; total time=   7.4s\n",
            "[CV 4\/5] END colsample_bytree=0.8, gamma=0.5, max_depth=3, subsample=0.6; total time=  16.5s\n",
            "[CV 5\/5] END colsample_bytree=0.8, gamma=0.5, max_depth=3, subsample=0.6; total time=   9.6s\n",
            "[CV 1\/5] END colsample_bytree=0.8, gamma=0.5, max_depth=3, subsample=0.8; total time=   7.3s\n",
            "[CV 2\/5] END colsample_bytree=0.8, gamma=0.5, max_depth=3, subsample=0.8; total time=   7.3s\n",
            "[CV 3\/5] END colsample_bytree=0.8, gamma=0.5, max_depth=3, subsample=0.8; total time=   7.3s\n",
            "[CV 4\/5] END colsample_bytree=0.8, gamma=0.5, max_depth=3, subsample=0.8; total time=   7.3s\n",
            "[CV 5\/5] END colsample_bytree=0.8, gamma=0.5, max_depth=3, subsample=0.8; total time=   7.3s\n",
            "[CV 1\/5] END colsample_bytree=0.8, gamma=0.5, max_depth=3, subsample=1.0; total time=   6.9s\n",
            "[CV 2\/5] END colsample_bytree=0.8, gamma=0.5, max_depth=3, subsample=1.0; total time=   7.3s\n",
            "[CV 3\/5] END colsample_bytree=0.8, gamma=0.5, max_depth=3, subsample=1.0; total time=  12.1s\n",
            "[CV 4\/5] END colsample_bytree=0.8, gamma=0.5, max_depth=3, subsample=1.0; total time=  14.1s\n",
            "[CV 5\/5] END colsample_bytree=0.8, gamma=0.5, max_depth=3, subsample=1.0; total time=   7.0s\n",
            "[CV 1\/5] END colsample_bytree=0.8, gamma=0.5, max_depth=4, subsample=0.6; total time=   9.6s\n",
            "[CV 2\/5] END colsample_bytree=0.8, gamma=0.5, max_depth=4, subsample=0.6; total time=   9.5s\n",
            "[CV 3\/5] END colsample_bytree=0.8, gamma=0.5, max_depth=4, subsample=0.6; total time=   9.8s\n",
            "[CV 4\/5] END colsample_bytree=0.8, gamma=0.5, max_depth=4, subsample=0.6; total time=   9.8s\n",
            "[CV 5\/5] END colsample_bytree=0.8, gamma=0.5, max_depth=4, subsample=0.6; total time=   9.5s\n",
            "[CV 1\/5] END colsample_bytree=0.8, gamma=0.5, max_depth=4, subsample=0.8; total time=  17.5s\n",
            "[CV 2\/5] END colsample_bytree=0.8, gamma=0.5, max_depth=4, subsample=0.8; total time=  12.3s\n",
            "[CV 3\/5] END colsample_bytree=0.8, gamma=0.5, max_depth=4, subsample=0.8; total time=  15.6s\n",
            "[CV 4\/5] END colsample_bytree=0.8, gamma=0.5, max_depth=4, subsample=0.8; total time=   9.7s\n",
            "[CV 5\/5] END colsample_bytree=0.8, gamma=0.5, max_depth=4, subsample=0.8; total time=   9.3s\n",
            "[CV 1\/5] END colsample_bytree=0.8, gamma=0.5, max_depth=4, subsample=1.0; total time=   9.1s\n",
            "[CV 2\/5] END colsample_bytree=0.8, gamma=0.5, max_depth=4, subsample=1.0; total time=   9.6s\n",
            "[CV 3\/5] END colsample_bytree=0.8, gamma=0.5, max_depth=4, subsample=1.0; total time=  20.6s\n",
            "[CV 4\/5] END colsample_bytree=0.8, gamma=0.5, max_depth=4, subsample=1.0; total time=   9.0s\n",
            "[CV 5\/5] END colsample_bytree=0.8, gamma=0.5, max_depth=4, subsample=1.0; total time=   9.1s\n",
            "[CV 1\/5] END colsample_bytree=0.8, gamma=0.5, max_depth=5, subsample=0.6; total time=  11.9s\n",
            "[CV 2\/5] END colsample_bytree=0.8, gamma=0.5, max_depth=5, subsample=0.6; total time=  11.6s\n",
            "[CV 3\/5] END colsample_bytree=0.8, gamma=0.5, max_depth=5, subsample=0.6; total time=  12.1s\n",
            "[CV 4\/5] END colsample_bytree=0.8, gamma=0.5, max_depth=5, subsample=0.6; total time=  25.0s\n",
            "[CV 5\/5] END colsample_bytree=0.8, gamma=0.5, max_depth=5, subsample=0.6; total time=  11.8s\n",
            "[CV 1\/5] END colsample_bytree=0.8, gamma=0.5, max_depth=5, subsample=0.8; total time=  11.5s\n",
            "[CV 2\/5] END colsample_bytree=0.8, gamma=0.5, max_depth=5, subsample=0.8; total time=  11.6s\n",
            "[CV 3\/5] END colsample_bytree=0.8, gamma=0.5, max_depth=5, subsample=0.8; total time=  11.4s\n",
            "[CV 4\/5] END colsample_bytree=0.8, gamma=0.5, max_depth=5, subsample=0.8; total time=  11.4s\n",
            "[CV 5\/5] END colsample_bytree=0.8, gamma=0.5, max_depth=5, subsample=0.8; total time=  23.7s\n",
            "[CV 1\/5] END colsample_bytree=0.8, gamma=0.5, max_depth=5, subsample=1.0; total time=  11.7s\n",
            "[CV 2\/5] END colsample_bytree=0.8, gamma=0.5, max_depth=5, subsample=1.0; total time=  11.3s\n",
            "[CV 3\/5] END colsample_bytree=0.8, gamma=0.5, max_depth=5, subsample=1.0; total time=  11.2s\n",
            "[CV 4\/5] END colsample_bytree=0.8, gamma=0.5, max_depth=5, subsample=1.0; total time=  11.2s\n",
            "[CV 5\/5] END colsample_bytree=0.8, gamma=0.5, max_depth=5, subsample=1.0; total time=  12.3s\n",
            "[CV 1\/5] END colsample_bytree=0.8, gamma=1, max_depth=3, subsample=0.6; total time=  18.5s\n",
            "[CV 2\/5] END colsample_bytree=0.8, gamma=1, max_depth=3, subsample=0.6; total time=   7.5s\n",
            "[CV 3\/5] END colsample_bytree=0.8, gamma=1, max_depth=3, subsample=0.6; total time=   7.4s\n",
            "[CV 4\/5] END colsample_bytree=0.8, gamma=1, max_depth=3, subsample=0.6; total time=   7.5s\n",
            "[CV 5\/5] END colsample_bytree=0.8, gamma=1, max_depth=3, subsample=0.6; total time=   7.4s\n",
            "[CV 1\/5] END colsample_bytree=0.8, gamma=1, max_depth=3, subsample=0.8; total time=   7.4s\n",
            "[CV 2\/5] END colsample_bytree=0.8, gamma=1, max_depth=3, subsample=0.8; total time=   7.1s\n",
            "[CV 3\/5] END colsample_bytree=0.8, gamma=1, max_depth=3, subsample=0.8; total time=   7.3s\n",
            "[CV 4\/5] END colsample_bytree=0.8, gamma=1, max_depth=3, subsample=0.8; total time=   7.6s\n",
            "[CV 5\/5] END colsample_bytree=0.8, gamma=1, max_depth=3, subsample=0.8; total time=  18.2s\n",
            "[CV 1\/5] END colsample_bytree=0.8, gamma=1, max_depth=3, subsample=1.0; total time=   8.8s\n",
            "[CV 2\/5] END colsample_bytree=0.8, gamma=1, max_depth=3, subsample=1.0; total time=   7.0s\n",
            "[CV 3\/5] END colsample_bytree=0.8, gamma=1, max_depth=3, subsample=1.0; total time=   7.0s\n",
            "[CV 4\/5] END colsample_bytree=0.8, gamma=1, max_depth=3, subsample=1.0; total time=   7.0s\n",
            "[CV 5\/5] END colsample_bytree=0.8, gamma=1, max_depth=3, subsample=1.0; total time=   7.1s\n",
            "[CV 1\/5] END colsample_bytree=0.8, gamma=1, max_depth=4, subsample=0.6; total time=   9.6s\n",
            "[CV 2\/5] END colsample_bytree=0.8, gamma=1, max_depth=4, subsample=0.6; total time=   9.8s\n",
            "[CV 3\/5] END colsample_bytree=0.8, gamma=1, max_depth=4, subsample=0.6; total time=  14.3s\n",
            "[CV 4\/5] END colsample_bytree=0.8, gamma=1, max_depth=4, subsample=0.6; total time=  16.5s\n",
            "[CV 5\/5] END colsample_bytree=0.8, gamma=1, max_depth=4, subsample=0.6; total time=   9.7s\n",
            "[CV 1\/5] END colsample_bytree=0.8, gamma=1, max_depth=4, subsample=0.8; total time=   9.4s\n",
            "[CV 2\/5] END colsample_bytree=0.8, gamma=1, max_depth=4, subsample=0.8; total time=   9.4s\n",
            "[CV 3\/5] END colsample_bytree=0.8, gamma=1, max_depth=4, subsample=0.8; total time=   9.2s\n",
            "[CV 4\/5] END colsample_bytree=0.8, gamma=1, max_depth=4, subsample=0.8; total time=   9.3s\n",
            "[CV 5\/5] END colsample_bytree=0.8, gamma=1, max_depth=4, subsample=0.8; total time=   9.2s\n",
            "[CV 1\/5] END colsample_bytree=0.8, gamma=1, max_depth=4, subsample=1.0; total time=  21.2s\n",
            "[CV 2\/5] END colsample_bytree=0.8, gamma=1, max_depth=4, subsample=1.0; total time=   9.0s\n",
            "[CV 3\/5] END colsample_bytree=0.8, gamma=1, max_depth=4, subsample=1.0; total time=   9.0s\n",
            "[CV 4\/5] END colsample_bytree=0.8, gamma=1, max_depth=4, subsample=1.0; total time=   9.0s\n",
            "[CV 5\/5] END colsample_bytree=0.8, gamma=1, max_depth=4, subsample=1.0; total time=   9.2s\n",
            "[CV 1\/5] END colsample_bytree=0.8, gamma=1, max_depth=5, subsample=0.6; total time=  11.9s\n",
            "[CV 2\/5] END colsample_bytree=0.8, gamma=1, max_depth=5, subsample=0.6; total time=  12.9s\n",
            "[CV 3\/5] END colsample_bytree=0.8, gamma=1, max_depth=5, subsample=0.6; total time=  23.7s\n",
            "[CV 4\/5] END colsample_bytree=0.8, gamma=1, max_depth=5, subsample=0.6; total time=  12.0s\n",
            "[CV 5\/5] END colsample_bytree=0.8, gamma=1, max_depth=5, subsample=0.6; total time=  11.8s\n",
            "[CV 1\/5] END colsample_bytree=0.8, gamma=1, max_depth=5, subsample=0.8; total time=  11.8s\n",
            "[CV 2\/5] END colsample_bytree=0.8, gamma=1, max_depth=5, subsample=0.8; total time=  11.5s\n",
            "[CV 3\/5] END colsample_bytree=0.8, gamma=1, max_depth=5, subsample=0.8; total time=  15.1s\n",
            "[CV 4\/5] END colsample_bytree=0.8, gamma=1, max_depth=5, subsample=0.8; total time=  20.3s\n",
            "[CV 5\/5] END colsample_bytree=0.8, gamma=1, max_depth=5, subsample=0.8; total time=  11.8s\n",
            "[CV 1\/5] END colsample_bytree=0.8, gamma=1, max_depth=5, subsample=1.0; total time=  11.4s\n",
            "[CV 2\/5] END colsample_bytree=0.8, gamma=1, max_depth=5, subsample=1.0; total time=  11.1s\n",
            "[CV 3\/5] END colsample_bytree=0.8, gamma=1, max_depth=5, subsample=1.0; total time=  11.4s\n",
            "[CV 4\/5] END colsample_bytree=0.8, gamma=1, max_depth=5, subsample=1.0; total time=  14.5s\n",
            "[CV 5\/5] END colsample_bytree=0.8, gamma=1, max_depth=5, subsample=1.0; total time=  19.7s\n",
            "[CV 1\/5] END colsample_bytree=0.8, gamma=5, max_depth=3, subsample=0.6; total time=   7.5s\n",
            "[CV 2\/5] END colsample_bytree=0.8, gamma=5, max_depth=3, subsample=0.6; total time=   7.5s\n",
            "[CV 3\/5] END colsample_bytree=0.8, gamma=5, max_depth=3, subsample=0.6; total time=   7.5s\n",
            "[CV 4\/5] END colsample_bytree=0.8, gamma=5, max_depth=3, subsample=0.6; total time=   7.4s\n",
            "[CV 5\/5] END colsample_bytree=0.8, gamma=5, max_depth=3, subsample=0.6; total time=   7.4s\n",
            "[CV 1\/5] END colsample_bytree=0.8, gamma=5, max_depth=3, subsample=0.8; total time=   7.4s\n",
            "[CV 2\/5] END colsample_bytree=0.8, gamma=5, max_depth=3, subsample=0.8; total time=   7.4s\n",
            "[CV 3\/5] END colsample_bytree=0.8, gamma=5, max_depth=3, subsample=0.8; total time=  14.8s\n",
            "[CV 4\/5] END colsample_bytree=0.8, gamma=5, max_depth=3, subsample=0.8; total time=  10.9s\n",
            "[CV 5\/5] END colsample_bytree=0.8, gamma=5, max_depth=3, subsample=0.8; total time=   7.4s\n",
            "[CV 1\/5] END colsample_bytree=0.8, gamma=5, max_depth=3, subsample=1.0; total time=   7.0s\n",
            "[CV 2\/5] END colsample_bytree=0.8, gamma=5, max_depth=3, subsample=1.0; total time=   7.0s\n",
            "[CV 3\/5] END colsample_bytree=0.8, gamma=5, max_depth=3, subsample=1.0; total time=   7.2s\n",
            "[CV 4\/5] END colsample_bytree=0.8, gamma=5, max_depth=3, subsample=1.0; total time=   7.1s\n",
            "[CV 5\/5] END colsample_bytree=0.8, gamma=5, max_depth=3, subsample=1.0; total time=   6.9s\n",
            "[CV 1\/5] END colsample_bytree=0.8, gamma=5, max_depth=4, subsample=0.6; total time=   9.4s\n",
            "[CV 2\/5] END colsample_bytree=0.8, gamma=5, max_depth=4, subsample=0.6; total time=  19.9s\n",
            "[CV 3\/5] END colsample_bytree=0.8, gamma=5, max_depth=4, subsample=0.6; total time=  10.6s\n",
            "[CV 4\/5] END colsample_bytree=0.8, gamma=5, max_depth=4, subsample=0.6; total time=  10.0s\n",
            "[CV 5\/5] END colsample_bytree=0.8, gamma=5, max_depth=4, subsample=0.6; total time=   9.7s\n",
            "[CV 1\/5] END colsample_bytree=0.8, gamma=5, max_depth=4, subsample=0.8; total time=   9.3s\n",
            "[CV 2\/5] END colsample_bytree=0.8, gamma=5, max_depth=4, subsample=0.8; total time=   9.4s\n",
            "[CV 3\/5] END colsample_bytree=0.8, gamma=5, max_depth=4, subsample=0.8; total time=   9.3s\n",
            "[CV 4\/5] END colsample_bytree=0.8, gamma=5, max_depth=4, subsample=0.8; total time=  16.6s\n",
            "[CV 5\/5] END colsample_bytree=0.8, gamma=5, max_depth=4, subsample=0.8; total time=  13.9s\n",
            "[CV 1\/5] END colsample_bytree=0.8, gamma=5, max_depth=4, subsample=1.0; total time=   9.0s\n",
            "[CV 2\/5] END colsample_bytree=0.8, gamma=5, max_depth=4, subsample=1.0; total time=   9.0s\n",
            "[CV 3\/5] END colsample_bytree=0.8, gamma=5, max_depth=4, subsample=1.0; total time=   9.0s\n",
            "[CV 4\/5] END colsample_bytree=0.8, gamma=5, max_depth=4, subsample=1.0; total time=   8.9s\n",
            "[CV 5\/5] END colsample_bytree=0.8, gamma=5, max_depth=4, subsample=1.0; total time=   9.0s\n",
            "[CV 1\/5] END colsample_bytree=0.8, gamma=5, max_depth=5, subsample=0.6; total time=  15.4s\n",
            "[CV 2\/5] END colsample_bytree=0.8, gamma=5, max_depth=5, subsample=0.6; total time=  19.7s\n",
            "[CV 3\/5] END colsample_bytree=0.8, gamma=5, max_depth=5, subsample=0.6; total time=  11.8s\n",
            "[CV 4\/5] END colsample_bytree=0.8, gamma=5, max_depth=5, subsample=0.6; total time=  11.8s\n",
            "[CV 5\/5] END colsample_bytree=0.8, gamma=5, max_depth=5, subsample=0.6; total time=  12.0s\n",
            "[CV 1\/5] END colsample_bytree=0.8, gamma=5, max_depth=5, subsample=0.8; total time=  11.5s\n",
            "[CV 2\/5] END colsample_bytree=0.8, gamma=5, max_depth=5, subsample=0.8; total time=  18.0s\n",
            "[CV 3\/5] END colsample_bytree=0.8, gamma=5, max_depth=5, subsample=0.8; total time=  17.6s\n",
            "[CV 4\/5] END colsample_bytree=0.8, gamma=5, max_depth=5, subsample=0.8; total time=  11.7s\n",
            "[CV 5\/5] END colsample_bytree=0.8, gamma=5, max_depth=5, subsample=0.8; total time=  11.4s\n",
            "[CV 1\/5] END colsample_bytree=0.8, gamma=5, max_depth=5, subsample=1.0; total time=  11.3s\n",
            "[CV 2\/5] END colsample_bytree=0.8, gamma=5, max_depth=5, subsample=1.0; total time=  11.1s\n",
            "[CV 3\/5] END colsample_bytree=0.8, gamma=5, max_depth=5, subsample=1.0; total time=  17.8s\n",
            "[CV 4\/5] END colsample_bytree=0.8, gamma=5, max_depth=5, subsample=1.0; total time=  17.1s\n",
            "[CV 5\/5] END colsample_bytree=0.8, gamma=5, max_depth=5, subsample=1.0; total time=  11.1s\n",
            "[CV 1\/5] END colsample_bytree=1.0, gamma=0.5, max_depth=3, subsample=0.6; total time=   8.6s\n",
            "[CV 2\/5] END colsample_bytree=1.0, gamma=0.5, max_depth=3, subsample=0.6; total time=   8.6s\n",
            "[CV 3\/5] END colsample_bytree=1.0, gamma=0.5, max_depth=3, subsample=0.6; total time=   8.7s\n",
            "[CV 4\/5] END colsample_bytree=1.0, gamma=0.5, max_depth=3, subsample=0.6; total time=   8.9s\n",
            "[CV 5\/5] END colsample_bytree=1.0, gamma=0.5, max_depth=3, subsample=0.6; total time=  12.6s\n",
            "[CV 1\/5] END colsample_bytree=1.0, gamma=0.5, max_depth=3, subsample=0.8; total time=  15.9s\n",
            "[CV 2\/5] END colsample_bytree=1.0, gamma=0.5, max_depth=3, subsample=0.8; total time=   8.6s\n",
            "[CV 3\/5] END colsample_bytree=1.0, gamma=0.5, max_depth=3, subsample=0.8; total time=   8.6s\n",
            "[CV 4\/5] END colsample_bytree=1.0, gamma=0.5, max_depth=3, subsample=0.8; total time=   8.5s\n",
            "[CV 5\/5] END colsample_bytree=1.0, gamma=0.5, max_depth=3, subsample=0.8; total time=   8.8s\n",
            "[CV 1\/5] END colsample_bytree=1.0, gamma=0.5, max_depth=3, subsample=1.0; total time=   8.3s\n",
            "[CV 2\/5] END colsample_bytree=1.0, gamma=0.5, max_depth=3, subsample=1.0; total time=   8.3s\n",
            "[CV 3\/5] END colsample_bytree=1.0, gamma=0.5, max_depth=3, subsample=1.0; total time=  11.5s\n",
            "[CV 4\/5] END colsample_bytree=1.0, gamma=0.5, max_depth=3, subsample=1.0; total time=  16.2s\n",
            "[CV 5\/5] END colsample_bytree=1.0, gamma=0.5, max_depth=3, subsample=1.0; total time=   8.4s\n",
            "[CV 1\/5] END colsample_bytree=1.0, gamma=0.5, max_depth=4, subsample=0.6; total time=  11.2s\n",
            "[CV 2\/5] END colsample_bytree=1.0, gamma=0.5, max_depth=4, subsample=0.6; total time=  11.0s\n",
            "[CV 3\/5] END colsample_bytree=1.0, gamma=0.5, max_depth=4, subsample=0.6; total time=  10.9s\n",
            "[CV 4\/5] END colsample_bytree=1.0, gamma=0.5, max_depth=4, subsample=0.6; total time=  11.0s\n",
            "[CV 5\/5] END colsample_bytree=1.0, gamma=0.5, max_depth=4, subsample=0.6; total time=  20.8s\n",
            "[CV 1\/5] END colsample_bytree=1.0, gamma=0.5, max_depth=4, subsample=0.8; total time=  13.3s\n",
            "[CV 2\/5] END colsample_bytree=1.0, gamma=0.5, max_depth=4, subsample=0.8; total time=  11.5s\n",
            "[CV 3\/5] END colsample_bytree=1.0, gamma=0.5, max_depth=4, subsample=0.8; total time=  11.1s\n",
            "[CV 4\/5] END colsample_bytree=1.0, gamma=0.5, max_depth=4, subsample=0.8; total time=  10.9s\n",
            "[CV 5\/5] END colsample_bytree=1.0, gamma=0.5, max_depth=4, subsample=0.8; total time=  11.1s\n",
            "[CV 1\/5] END colsample_bytree=1.0, gamma=0.5, max_depth=4, subsample=1.0; total time=  18.6s\n",
            "[CV 2\/5] END colsample_bytree=1.0, gamma=0.5, max_depth=4, subsample=1.0; total time=  14.3s\n",
            "[CV 3\/5] END colsample_bytree=1.0, gamma=0.5, max_depth=4, subsample=1.0; total time=  10.6s\n",
            "[CV 4\/5] END colsample_bytree=1.0, gamma=0.5, max_depth=4, subsample=1.0; total time=  10.8s\n",
            "[CV 5\/5] END colsample_bytree=1.0, gamma=0.5, max_depth=4, subsample=1.0; total time=  11.0s\n",
            "[CV 1\/5] END colsample_bytree=1.0, gamma=0.5, max_depth=5, subsample=0.6; total time=  14.0s\n",
            "[CV 2\/5] END colsample_bytree=1.0, gamma=0.5, max_depth=5, subsample=0.6; total time=  23.7s\n",
            "[CV 3\/5] END colsample_bytree=1.0, gamma=0.5, max_depth=5, subsample=0.6; total time=  15.4s\n",
            "[CV 4\/5] END colsample_bytree=1.0, gamma=0.5, max_depth=5, subsample=0.6; total time=  13.9s\n",
            "[CV 5\/5] END colsample_bytree=1.0, gamma=0.5, max_depth=5, subsample=0.6; total time=  13.8s\n",
            "[CV 1\/5] END colsample_bytree=1.0, gamma=0.5, max_depth=5, subsample=0.8; total time=  13.4s\n",
            "[CV 2\/5] END colsample_bytree=1.0, gamma=0.5, max_depth=5, subsample=0.8; total time=  25.3s\n",
            "[CV 3\/5] END colsample_bytree=1.0, gamma=0.5, max_depth=5, subsample=0.8; total time=  13.3s\n",
            "[CV 4\/5] END colsample_bytree=1.0, gamma=0.5, max_depth=5, subsample=0.8; total time=  13.5s\n",
            "[CV 5\/5] END colsample_bytree=1.0, gamma=0.5, max_depth=5, subsample=0.8; total time=  13.2s\n",
            "[CV 1\/5] END colsample_bytree=1.0, gamma=0.5, max_depth=5, subsample=1.0; total time=  13.6s\n",
            "[CV 2\/5] END colsample_bytree=1.0, gamma=0.5, max_depth=5, subsample=1.0; total time=  22.8s\n",
            "[CV 3\/5] END colsample_bytree=1.0, gamma=0.5, max_depth=5, subsample=1.0; total time=  14.7s\n",
            "[CV 4\/5] END colsample_bytree=1.0, gamma=0.5, max_depth=5, subsample=1.0; total time=  13.1s\n",
            "[CV 5\/5] END colsample_bytree=1.0, gamma=0.5, max_depth=5, subsample=1.0; total time=  13.5s\n",
            "[CV 1\/5] END colsample_bytree=1.0, gamma=1, max_depth=3, subsample=0.6; total time=   8.6s\n",
            "[CV 2\/5] END colsample_bytree=1.0, gamma=1, max_depth=3, subsample=0.6; total time=   8.6s\n",
            "[CV 3\/5] END colsample_bytree=1.0, gamma=1, max_depth=3, subsample=0.6; total time=  13.9s\n",
            "[CV 4\/5] END colsample_bytree=1.0, gamma=1, max_depth=3, subsample=0.6; total time=  15.3s\n",
            "[CV 5\/5] END colsample_bytree=1.0, gamma=1, max_depth=3, subsample=0.6; total time=   8.6s\n",
            "[CV 1\/5] END colsample_bytree=1.0, gamma=1, max_depth=3, subsample=0.8; total time=   8.8s\n",
            "[CV 2\/5] END colsample_bytree=1.0, gamma=1, max_depth=3, subsample=0.8; total time=   8.6s\n",
            "[CV 3\/5] END colsample_bytree=1.0, gamma=1, max_depth=3, subsample=0.8; total time=   8.5s\n",
            "[CV 4\/5] END colsample_bytree=1.0, gamma=1, max_depth=3, subsample=0.8; total time=   8.6s\n",
            "[CV 5\/5] END colsample_bytree=1.0, gamma=1, max_depth=3, subsample=0.8; total time=   8.6s\n",
            "[CV 1\/5] END colsample_bytree=1.0, gamma=1, max_depth=3, subsample=1.0; total time=  13.7s\n",
            "[CV 2\/5] END colsample_bytree=1.0, gamma=1, max_depth=3, subsample=1.0; total time=  15.4s\n",
            "[CV 3\/5] END colsample_bytree=1.0, gamma=1, max_depth=3, subsample=1.0; total time=   8.3s\n",
            "[CV 4\/5] END colsample_bytree=1.0, gamma=1, max_depth=3, subsample=1.0; total time=   8.2s\n",
            "[CV 5\/5] END colsample_bytree=1.0, gamma=1, max_depth=3, subsample=1.0; total time=   8.3s\n",
            "[CV 1\/5] END colsample_bytree=1.0, gamma=1, max_depth=4, subsample=0.6; total time=  10.9s\n",
            "[CV 2\/5] END colsample_bytree=1.0, gamma=1, max_depth=4, subsample=0.6; total time=  11.0s\n",
            "[CV 3\/5] END colsample_bytree=1.0, gamma=1, max_depth=4, subsample=0.6; total time=  12.1s\n",
            "[CV 4\/5] END colsample_bytree=1.0, gamma=1, max_depth=4, subsample=0.6; total time=  22.2s\n",
            "[CV 5\/5] END colsample_bytree=1.0, gamma=1, max_depth=4, subsample=0.6; total time=  10.9s\n",
            "[CV 1\/5] END colsample_bytree=1.0, gamma=1, max_depth=4, subsample=0.8; total time=  10.9s\n",
            "[CV 2\/5] END colsample_bytree=1.0, gamma=1, max_depth=4, subsample=0.8; total time=  11.2s\n",
            "[CV 3\/5] END colsample_bytree=1.0, gamma=1, max_depth=4, subsample=0.8; total time=  10.9s\n",
            "[CV 4\/5] END colsample_bytree=1.0, gamma=1, max_depth=4, subsample=0.8; total time=  11.0s\n",
            "[CV 5\/5] END colsample_bytree=1.0, gamma=1, max_depth=4, subsample=0.8; total time=  22.3s\n",
            "[CV 1\/5] END colsample_bytree=1.0, gamma=1, max_depth=4, subsample=1.0; total time=  11.0s\n",
            "[CV 2\/5] END colsample_bytree=1.0, gamma=1, max_depth=4, subsample=1.0; total time=  10.9s\n",
            "[CV 3\/5] END colsample_bytree=1.0, gamma=1, max_depth=4, subsample=1.0; total time=  10.9s\n",
            "[CV 4\/5] END colsample_bytree=1.0, gamma=1, max_depth=4, subsample=1.0; total time=  10.8s\n",
            "[CV 5\/5] END colsample_bytree=1.0, gamma=1, max_depth=4, subsample=1.0; total time=  10.8s\n",
            "[CV 1\/5] END colsample_bytree=1.0, gamma=1, max_depth=5, subsample=0.6; total time=  26.0s\n",
            "[CV 2\/5] END colsample_bytree=1.0, gamma=1, max_depth=5, subsample=0.6; total time=  13.7s\n",
            "[CV 3\/5] END colsample_bytree=1.0, gamma=1, max_depth=5, subsample=0.6; total time=  16.0s\n",
            "[CV 4\/5] END colsample_bytree=1.0, gamma=1, max_depth=5, subsample=0.6; total time=  13.8s\n",
            "[CV 5\/5] END colsample_bytree=1.0, gamma=1, max_depth=5, subsample=0.6; total time=  14.0s\n",
            "[CV 1\/5] END colsample_bytree=1.0, gamma=1, max_depth=5, subsample=0.8; total time=  25.2s\n",
            "[CV 2\/5] END colsample_bytree=1.0, gamma=1, max_depth=5, subsample=0.8; total time=  13.5s\n",
            "[CV 3\/5] END colsample_bytree=1.0, gamma=1, max_depth=5, subsample=0.8; total time=  13.5s\n",
            "[CV 4\/5] END colsample_bytree=1.0, gamma=1, max_depth=5, subsample=0.8; total time=  13.5s\n",
            "[CV 5\/5] END colsample_bytree=1.0, gamma=1, max_depth=5, subsample=0.8; total time=  13.3s\n",
            "[CV 1\/5] END colsample_bytree=1.0, gamma=1, max_depth=5, subsample=1.0; total time=  25.1s\n",
            "[CV 2\/5] END colsample_bytree=1.0, gamma=1, max_depth=5, subsample=1.0; total time=  13.7s\n",
            "[CV 3\/5] END colsample_bytree=1.0, gamma=1, max_depth=5, subsample=1.0; total time=  13.2s\n",
            "[CV 4\/5] END colsample_bytree=1.0, gamma=1, max_depth=5, subsample=1.0; total time=  13.4s\n",
            "[CV 5\/5] END colsample_bytree=1.0, gamma=1, max_depth=5, subsample=1.0; total time=  13.2s\n",
            "[CV 1\/5] END colsample_bytree=1.0, gamma=5, max_depth=3, subsample=0.6; total time=  13.9s\n",
            "[CV 2\/5] END colsample_bytree=1.0, gamma=5, max_depth=3, subsample=0.6; total time=  14.7s\n",
            "[CV 3\/5] END colsample_bytree=1.0, gamma=5, max_depth=3, subsample=0.6; total time=   8.7s\n",
            "[CV 4\/5] END colsample_bytree=1.0, gamma=5, max_depth=3, subsample=0.6; total time=   8.6s\n",
            "[CV 5\/5] END colsample_bytree=1.0, gamma=5, max_depth=3, subsample=0.6; total time=   8.5s\n",
            "[CV 1\/5] END colsample_bytree=1.0, gamma=5, max_depth=3, subsample=0.8; total time=   8.6s\n",
            "[CV 2\/5] END colsample_bytree=1.0, gamma=5, max_depth=3, subsample=0.8; total time=   8.5s\n",
            "[CV 3\/5] END colsample_bytree=1.0, gamma=5, max_depth=3, subsample=0.8; total time=   8.9s\n",
            "[CV 4\/5] END colsample_bytree=1.0, gamma=5, max_depth=3, subsample=0.8; total time=  14.1s\n",
            "[CV 5\/5] END colsample_bytree=1.0, gamma=5, max_depth=3, subsample=0.8; total time=  14.3s\n",
            "[CV 1\/5] END colsample_bytree=1.0, gamma=5, max_depth=3, subsample=1.0; total time=   8.3s\n",
            "[CV 2\/5] END colsample_bytree=1.0, gamma=5, max_depth=3, subsample=1.0; total time=   8.3s\n",
            "[CV 3\/5] END colsample_bytree=1.0, gamma=5, max_depth=3, subsample=1.0; total time=   8.4s\n",
            "[CV 4\/5] END colsample_bytree=1.0, gamma=5, max_depth=3, subsample=1.0; total time=   8.4s\n",
            "[CV 5\/5] END colsample_bytree=1.0, gamma=5, max_depth=3, subsample=1.0; total time=   8.3s\n",
            "[CV 1\/5] END colsample_bytree=1.0, gamma=5, max_depth=4, subsample=0.6; total time=  10.9s\n",
            "[CV 2\/5] END colsample_bytree=1.0, gamma=5, max_depth=4, subsample=0.6; total time=  21.5s\n",
            "[CV 3\/5] END colsample_bytree=1.0, gamma=5, max_depth=4, subsample=0.6; total time=  13.3s\n",
            "[CV 4\/5] END colsample_bytree=1.0, gamma=5, max_depth=4, subsample=0.6; total time=  11.2s\n",
            "[CV 5\/5] END colsample_bytree=1.0, gamma=5, max_depth=4, subsample=0.6; total time=  10.9s\n",
            "[CV 1\/5] END colsample_bytree=1.0, gamma=5, max_depth=4, subsample=0.8; total time=  10.9s\n",
            "[CV 2\/5] END colsample_bytree=1.0, gamma=5, max_depth=4, subsample=0.8; total time=  10.9s\n",
            "[CV 3\/5] END colsample_bytree=1.0, gamma=5, max_depth=4, subsample=0.8; total time=  18.3s\n",
            "[CV 4\/5] END colsample_bytree=1.0, gamma=5, max_depth=4, subsample=0.8; total time=  15.3s\n",
            "[CV 5\/5] END colsample_bytree=1.0, gamma=5, max_depth=4, subsample=0.8; total time=  10.9s\n",
            "[CV 1\/5] END colsample_bytree=1.0, gamma=5, max_depth=4, subsample=1.0; total time=  10.8s\n",
            "[CV 2\/5] END colsample_bytree=1.0, gamma=5, max_depth=4, subsample=1.0; total time=  10.8s\n",
            "[CV 3\/5] END colsample_bytree=1.0, gamma=5, max_depth=4, subsample=1.0; total time=  11.0s\n",
            "[CV 4\/5] END colsample_bytree=1.0, gamma=5, max_depth=4, subsample=1.0; total time=  13.7s\n",
            "[CV 5\/5] END colsample_bytree=1.0, gamma=5, max_depth=4, subsample=1.0; total time=  19.4s\n",
            "[CV 1\/5] END colsample_bytree=1.0, gamma=5, max_depth=5, subsample=0.6; total time=  13.6s\n",
            "[CV 2\/5] END colsample_bytree=1.0, gamma=5, max_depth=5, subsample=0.6; total time=  13.9s\n",
            "[CV 3\/5] END colsample_bytree=1.0, gamma=5, max_depth=5, subsample=0.6; total time=  13.7s\n",
            "[CV 4\/5] END colsample_bytree=1.0, gamma=5, max_depth=5, subsample=0.6; total time=  13.7s\n",
            "[CV 5\/5] END colsample_bytree=1.0, gamma=5, max_depth=5, subsample=0.6; total time=  25.8s\n",
            "[CV 1\/5] END colsample_bytree=1.0, gamma=5, max_depth=5, subsample=0.8; total time=  13.7s\n",
            "[CV 2\/5] END colsample_bytree=1.0, gamma=5, max_depth=5, subsample=0.8; total time=  13.4s\n",
            "[CV 3\/5] END colsample_bytree=1.0, gamma=5, max_depth=5, subsample=0.8; total time=  13.3s\n",
            "[CV 4\/5] END colsample_bytree=1.0, gamma=5, max_depth=5, subsample=0.8; total time=  13.4s\n",
            "[CV 5\/5] END colsample_bytree=1.0, gamma=5, max_depth=5, subsample=0.8; total time=  25.2s\n",
            "[CV 1\/5] END colsample_bytree=1.0, gamma=5, max_depth=5, subsample=1.0; total time=  13.1s\n",
            "[CV 2\/5] END colsample_bytree=1.0, gamma=5, max_depth=5, subsample=1.0; total time=  13.1s\n",
            "[CV 3\/5] END colsample_bytree=1.0, gamma=5, max_depth=5, subsample=1.0; total time=  13.3s\n",
            "[CV 4\/5] END colsample_bytree=1.0, gamma=5, max_depth=5, subsample=1.0; total time=  13.5s\n",
            "[CV 5\/5] END colsample_bytree=1.0, gamma=5, max_depth=5, subsample=1.0; total time=  25.0s\n"
          ],
          "output_type":"stream"
        },
        {
          "data":{
            "text\/plain":[
              "GridSearchCV(estimator=XGBClassifier(base_score=None, booster=None,\n",
              "                                     colsample_bylevel=None,\n",
              "                                     colsample_bynode=None,\n",
              "                                     colsample_bytree=None, gamma=None,\n",
              "                                     gpu_id=None, importance_type='gain',\n",
              "                                     interaction_constraints=None,\n",
              "                                     learning_rate=0.01, max_delta_step=None,\n",
              "                                     max_depth=None, min_child_weight=None,\n",
              "                                     missing=nan, monotone_constraints=None,\n",
              "                                     n_estimators=100, n_jobs=None,\n",
              "                                     num_parallel_tree=None, random_state=None,\n",
              "                                     reg_alpha=None, reg_lambda=None,\n",
              "                                     scale_pos_weight=None, subsample=None,\n",
              "                                     tree_method=None, validate_parameters=None,\n",
              "                                     verbosity=None),\n",
              "             param_grid={'colsample_bytree': [0.6, 0.8, 1.0],\n",
              "                         'gamma': [0.5, 1, 5], 'max_depth': [3, 4, 5],\n",
              "                         'subsample': [0.6, 0.8, 1.0]},\n",
              "             verbose=4)"
            ]
          },
          "metadata":{
            
          },
          "output_type":"display_data"
        }
      ],
      "metadata":{
        
      }
    },
    {
      "cell_type":"code",
      "source":[
        "y_predict_optim = grid.predict(x_test)"
      ],
      "execution_count":31,
      "outputs":[
        
      ],
      "metadata":{
        
      }
    },
    {
      "cell_type":"code",
      "source":[
        "y_predict_optim"
      ],
      "execution_count":32,
      "outputs":[
        {
          "data":{
            "text\/plain":[
              "array([0, 0, 0, ..., 0, 0, 0])"
            ]
          },
          "metadata":{
            
          },
          "output_type":"display_data"
        }
      ],
      "metadata":{
        
      }
    },
    {
      "cell_type":"code",
      "source":[
        "# Testing Set Performance\n",
        "cm = confusion_matrix(y_predict_optim, y_test)\n",
        "print(cm)"
      ],
      "execution_count":33,
      "outputs":[
        {
          "name":"stdout",
          "text":[
            "[[6693 1349]\n",
            " [ 327  631]]\n"
          ],
          "output_type":"stream"
        }
      ],
      "metadata":{
        
      }
    },
    {
      "cell_type":"code",
      "source":[
        "print(classification_report(y_predict_optim, y_test))"
      ],
      "execution_count":34,
      "outputs":[
        {
          "name":"stdout",
          "text":[
            "              precision    recall  f1-score   support\n",
            "\n",
            "           0       0.95      0.83      0.89      8042\n",
            "           1       0.32      0.66      0.43       958\n",
            "\n",
            "    accuracy                           0.81      9000\n",
            "   macro avg       0.64      0.75      0.66      9000\n",
            "weighted avg       0.89      0.81      0.84      9000\n",
            "\n"
          ],
          "output_type":"stream"
        }
      ],
      "metadata":{
        
      }
    },
    {
      "cell_type":"code",
      "source":[
        "\n",
        "print(\"Accuracy {} %\".format( 100 * accuracy_score(y_predict_optim, y_test)))"
      ],
      "execution_count":35,
      "outputs":[
        {
          "name":"stdout",
          "text":[
            "Accuracy 81.37777777777778 %\n"
          ],
          "output_type":"stream"
        }
      ],
      "metadata":{
        
      }
    }
  ],
  "metadata":{
    
  },
  "nbformat":4,
  "nbformat_minor":0
}